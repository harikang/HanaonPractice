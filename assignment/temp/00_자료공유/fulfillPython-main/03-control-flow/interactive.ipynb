{
 "cells": [
  {
   "cell_type": "markdown",
   "metadata": {},
   "source": [
    "# 기본 문법"
   ]
  },
  {
   "cell_type": "markdown",
   "metadata": {},
   "source": [
    "## 들여쓰기를 사용한 블록 표현"
   ]
  },
  {
   "cell_type": "code",
   "execution_count": 1,
   "metadata": {},
   "outputs": [],
   "source": [
    "import sys\n",
    "def py2_or_py3():\n",
    "    # 들여쓰기가 되어 있음\n",
    "    # 실행 중인 파이썬 버전을 얻음\n",
    "    major = sys.version_info.major\n",
    "    if major < 3:\n",
    "        # 들여쓰기가 되어 있음\n",
    "        return 'Python 2'\n",
    "    else:\n",
    "        # 마찬가지로 들여쓰기가 되어 있음\n",
    "        return 'Python 3'"
   ]
  },
  {
   "cell_type": "code",
   "execution_count": 2,
   "metadata": {},
   "outputs": [
    {
     "data": {
      "text/plain": [
       "'Python 3'"
      ]
     },
     "execution_count": 2,
     "metadata": {},
     "output_type": "execute_result"
    }
   ],
   "source": [
    "# 실행 환경은 Python 3.8\n",
    "py2_or_py3()"
   ]
  },
  {
   "cell_type": "markdown",
   "metadata": {},
   "source": [
    "### 들여쓰기 폭"
   ]
  },
  {
   "cell_type": "markdown",
   "metadata": {},
   "source": [
    "### pass 문"
   ]
  },
  {
   "cell_type": "raw",
   "metadata": {},
   "source": [
    "Notebook이 아닌 보통의 대화형 모드에서는 다음 상황에서 IndentationError 예외가 발생함"
   ]
  },
  {
   "cell_type": "code",
   "execution_count": 3,
   "metadata": {
    "tags": [
     "raises-exception"
    ]
   },
   "outputs": [
    {
     "ename": "SyntaxError",
     "evalue": "unexpected EOF while parsing (<ipython-input-3-ec32c3d9d0a1>, line 3)",
     "output_type": "error",
     "traceback": [
      "\u001b[0;36m  File \u001b[0;32m\"<ipython-input-3-ec32c3d9d0a1>\"\u001b[0;36m, line \u001b[0;32m3\u001b[0m\n\u001b[0;31m    \u001b[0m\n\u001b[0m    ^\u001b[0m\n\u001b[0;31mSyntaxError\u001b[0m\u001b[0;31m:\u001b[0m unexpected EOF while parsing\n"
     ]
    }
   ],
   "source": [
    "# 2번째 행은 Enter만 입력\n",
    "class PracticeBookError(Exception):\n",
    "    "
   ]
  },
  {
   "cell_type": "code",
   "execution_count": 4,
   "metadata": {},
   "outputs": [],
   "source": [
    "class PracticeBookError(Exception):\n",
    "    pass\n"
   ]
  },
  {
   "cell_type": "code",
   "execution_count": 5,
   "metadata": {},
   "outputs": [],
   "source": [
    "class PracticeBookError(Exception):\n",
    "    \"\"\"모듈 고유의 예외 베이스 클래스\"\"\"\n",
    "    "
   ]
  },
  {
   "cell_type": "markdown",
   "metadata": {},
   "source": [
    "## 변수 이용"
   ]
  },
  {
   "cell_type": "code",
   "execution_count": 6,
   "metadata": {},
   "outputs": [
    {
     "data": {
      "text/plain": [
       "3"
      ]
     },
     "execution_count": 6,
     "metadata": {},
     "output_type": "execute_result"
    }
   ],
   "source": [
    "# 새로운 변수를 정의함\n",
    "num = 3\n",
    "num"
   ]
  },
  {
   "cell_type": "code",
   "execution_count": 7,
   "metadata": {
    "tags": [
     "raises-exception"
    ]
   },
   "outputs": [
    {
     "ename": "NameError",
     "evalue": "name 'nam' is not defined",
     "output_type": "error",
     "traceback": [
      "\u001b[0;31m---------------------------------------------------------------------------\u001b[0m",
      "\u001b[0;31mNameError\u001b[0m                                 Traceback (most recent call last)",
      "\u001b[0;32m<ipython-input-7-813d6d7ea13c>\u001b[0m in \u001b[0;36m<module>\u001b[0;34m\u001b[0m\n\u001b[1;32m      1\u001b[0m \u001b[0;31m# 정의하지 않으면 예외가 발생함\u001b[0m\u001b[0;34m\u001b[0m\u001b[0;34m\u001b[0m\u001b[0;34m\u001b[0m\u001b[0m\n\u001b[0;32m----> 2\u001b[0;31m \u001b[0mnam\u001b[0m\u001b[0;34m\u001b[0m\u001b[0;34m\u001b[0m\u001b[0m\n\u001b[0m",
      "\u001b[0;31mNameError\u001b[0m: name 'nam' is not defined"
     ]
    }
   ],
   "source": [
    "# 정의하지 않으면 예외가 발생함\n",
    "nam"
   ]
  },
  {
   "cell_type": "code",
   "execution_count": 8,
   "metadata": {},
   "outputs": [
    {
     "data": {
      "text/plain": [
       "1"
      ]
     },
     "execution_count": 8,
     "metadata": {},
     "output_type": "execute_result"
    }
   ],
   "source": [
    "# 여러 변수를 한 번에 정의함\n",
    "x, y, z = 1, 2, 3\n"
   ]
  },
  {
   "cell_type": "code",
   "execution_count": 9,
   "metadata": {},
   "outputs": [
    {
     "data": {
      "text/plain": [
       "2"
      ]
     },
     "execution_count": 9,
     "metadata": {},
     "output_type": "execute_result"
    }
   ],
   "source": [
    "y"
   ]
  },
  {
   "cell_type": "code",
   "execution_count": 10,
   "metadata": {},
   "outputs": [
    {
     "data": {
      "text/plain": [
       "3"
      ]
     },
     "execution_count": 10,
     "metadata": {},
     "output_type": "execute_result"
    }
   ],
   "source": [
    "z"
   ]
  },
  {
   "cell_type": "markdown",
   "metadata": {},
   "source": [
    "### 타입 선언이 필요 없는 이유"
   ]
  },
  {
   "cell_type": "code",
   "execution_count": 11,
   "metadata": {
    "tags": [
     "raises-exception"
    ]
   },
   "outputs": [
    {
     "ename": "TypeError",
     "evalue": "unsupported operand type(s) for +: 'int' and 'str'",
     "output_type": "error",
     "traceback": [
      "\u001b[0;31m---------------------------------------------------------------------------\u001b[0m",
      "\u001b[0;31mTypeError\u001b[0m                                 Traceback (most recent call last)",
      "\u001b[0;32m<ipython-input-11-033da8adfa7e>\u001b[0m in \u001b[0;36m<module>\u001b[0;34m\u001b[0m\n\u001b[1;32m      1\u001b[0m \u001b[0mi\u001b[0m \u001b[0;34m=\u001b[0m \u001b[0;36m1\u001b[0m\u001b[0;34m\u001b[0m\u001b[0;34m\u001b[0m\u001b[0m\n\u001b[1;32m      2\u001b[0m \u001b[0ms\u001b[0m \u001b[0;34m=\u001b[0m \u001b[0;34m'2'\u001b[0m\u001b[0;34m\u001b[0m\u001b[0;34m\u001b[0m\u001b[0m\n\u001b[0;32m----> 3\u001b[0;31m \u001b[0mi\u001b[0m \u001b[0;34m+\u001b[0m \u001b[0ms\u001b[0m\u001b[0;34m\u001b[0m\u001b[0;34m\u001b[0m\u001b[0m\n\u001b[0m",
      "\u001b[0;31mTypeError\u001b[0m: unsupported operand type(s) for +: 'int' and 'str'"
     ]
    }
   ],
   "source": [
    "i = 1\n",
    "s = '2'\n",
    "# i + int(s)\n",
    "i + s"
   ]
  },
  {
   "cell_type": "code",
   "execution_count": 12,
   "metadata": {},
   "outputs": [
    {
     "data": {
      "text/plain": [
       "3"
      ]
     },
     "execution_count": 12,
     "metadata": {},
     "output_type": "execute_result"
    }
   ],
   "source": [
    "# 양쪽 모두 숫자값 타입으로 연산함\n",
    "\n",
    "+ 연산자는 좌항 우항 2개가 필요한 2이항연산 타입확인\n",
    "i + int(s)"
   ]
  },
  {
   "cell_type": "code",
   "execution_count": 13,
   "metadata": {},
   "outputs": [
    {
     "data": {
      "text/plain": [
       "'12'"
      ]
     },
     "execution_count": 13,
     "metadata": {},
     "output_type": "execute_result"
    }
   ],
   "source": [
    "# 양쪽 모두 숫자값 타입으로 연산함\n",
    "연산자는 좌항 우항 2개가 필요한 2이항연산 타입확인 str + str 적용되는\n",
    "str(i) + s "
   ]
  },
  {
   "cell_type": "markdown",
   "metadata": {},
   "source": [
    "#### 동적 타입 언어와 정적 타입 언어의 특징"
   ]
  },
  {
   "cell_type": "markdown",
   "metadata": {},
   "source": [
    "## 주석"
   ]
  },
  {
   "cell_type": "code",
   "execution_count": 14,
   "metadata": {},
   "outputs": [],
   "source": [
    "# 이 행은 주석임"
   ]
  },
  {
   "cell_type": "code",
   "execution_count": 15,
   "metadata": {},
   "outputs": [],
   "source": [
    "def comment(): # 여기는 주석\n",
    "    pass"
   ]
  },
  {
   "cell_type": "markdown",
   "metadata": {},
   "source": [
    "### 주석과 독스트링의 차이"
   ]
  },
  {
   "cell_type": "code",
   "execution_count": 16,
   "metadata": {},
   "outputs": [],
   "source": [
    "def py2_or_py3():\n",
    "    major = sys.version_info.major\n",
    "    if major < 3:\n",
    "        \"\"\"\n",
    "        파이썬 1.x에서의 실행은 가정하지 않음\n",
    "        \"\"\"\n",
    "        return 'Python 2'\n",
    "    else:\n",
    "        return 'Python 3'"
   ]
  },
  {
   "cell_type": "code",
   "execution_count": 17,
   "metadata": {},
   "outputs": [],
   "source": [
    "def py2_or_py3():\n",
    "    major = sys.version_info.major\n",
    "    if major < 3:\n",
    "        # 파이썬 1.x에서의 실행은 가정하지 않음\n",
    "        return 'Python 2'\n",
    "    else:\n",
    "        return 'Python 3'"
   ]
  },
  {
   "cell_type": "code",
   "execution_count": 18,
   "metadata": {},
   "outputs": [],
   "source": [
    "def py2_or_py3():\n",
    "    \"\"\"실행중인 파이썬이 2계열인지 3계열인지 판정함\n",
    "    \n",
    "    이 함수는 파이썬 1.x에서의 실행은 가정하지 않음\n",
    "    \"\"\"\n",
    "    major = sys.version_info.major\n",
    "    if major < 3:\n",
    "        return 'Python 2'\n",
    "    else:\n",
    "        return 'Python 3'"
   ]
  },
  {
   "cell_type": "markdown",
   "metadata": {},
   "source": [
    "# 조건 분기"
   ]
  },
  {
   "cell_type": "markdown",
   "metadata": {},
   "source": [
    "## if 문 ── 조건을 지정한 처리 분기"
   ]
  },
  {
   "cell_type": "code",
   "execution_count": 19,
   "metadata": {},
   "outputs": [],
   "source": [
    "import sys\n",
    "def py2_or_py3():\n",
    "    major = sys.version_info.major\n",
    "    if major == 2:\n",
    "        return 'Python 2'\n",
    "    elif major == 3:\n",
    "        return 'Python 3'\n",
    "    else:\n",
    "        return 'Neither'"
   ]
  },
  {
   "cell_type": "code",
   "execution_count": 20,
   "metadata": {},
   "outputs": [
    {
     "data": {
      "text/plain": [
       "'Python 3'"
      ]
     },
     "execution_count": 20,
     "metadata": {},
     "output_type": "execute_result"
    }
   ],
   "source": [
    "# 실행 환경은 파이썬 3.8\n",
    "py2_or_py3()"
   ]
  },
  {
   "cell_type": "markdown",
   "metadata": {},
   "source": [
    "### 참이 되는 값, 거짓이 되는 값"
   ]
  },
  {
   "cell_type": "markdown",
   "metadata": {},
   "source": [
    "### 간단한 조건식"
   ]
  },
  {
   "cell_type": "code",
   "execution_count": 21,
   "metadata": {},
   "outputs": [],
   "source": [
    "def first_item(items):\n",
    "    if len(items) > 0:  # 엘리먼트 수를 사용해 비어있는지 판정함\n",
    "        return items[0]\n",
    "    else:\n",
    "        return None"
   ]
  },
  {
   "cell_type": "code",
   "execution_count": 22,
   "metadata": {},
   "outputs": [
    {
     "data": {
      "text/plain": [
       "'book'"
      ]
     },
     "execution_count": 22,
     "metadata": {},
     "output_type": "execute_result"
    }
   ],
   "source": [
    "first_item(['book'])"
   ]
  },
  {
   "cell_type": "code",
   "execution_count": 23,
   "metadata": {},
   "outputs": [],
   "source": [
    "first_item([])  # None이면 아무것도 표시되지 않음"
   ]
  },
  {
   "cell_type": "code",
   "execution_count": 24,
   "metadata": {},
   "outputs": [],
   "source": [
    "def first_item(items):\n",
    "    if items:  # 빈 컨테이너 객체는 거짓으로 판정함\n",
    "        return items[0]\n",
    "    else:\n",
    "        return None"
   ]
  },
  {
   "cell_type": "code",
   "execution_count": 25,
   "metadata": {},
   "outputs": [
    {
     "data": {
      "text/plain": [
       "'book'"
      ]
     },
     "execution_count": 25,
     "metadata": {},
     "output_type": "execute_result"
    }
   ],
   "source": [
    "first_item(['book'])"
   ]
  },
  {
   "cell_type": "code",
   "execution_count": 26,
   "metadata": {},
   "outputs": [],
   "source": [
    "first_item([])  # None이면 아무것도 표시되지 않음"
   ]
  },
  {
   "cell_type": "markdown",
   "metadata": {},
   "source": [
    "### if 문에서 자주 사용하는 숫자값 비교"
   ]
  },
  {
   "cell_type": "code",
   "execution_count": 27,
   "metadata": {},
   "outputs": [
    {
     "data": {
      "text/plain": [
       "True"
      ]
     },
     "execution_count": 27,
     "metadata": {},
     "output_type": "execute_result"
    }
   ],
   "source": [
    "1 == 1  # 값이 같으면 True\n",
    "\n"
   ]
  },
  {
   "cell_type": "code",
   "execution_count": 28,
   "metadata": {},
   "outputs": [
    {
     "data": {
      "text/plain": [
       "False"
      ]
     },
     "execution_count": 28,
     "metadata": {},
     "output_type": "execute_result"
    }
   ],
   "source": [
    "1 != 1  # 값이 같지 않으면 True"
   ]
  },
  {
   "cell_type": "code",
   "execution_count": 29,
   "metadata": {},
   "outputs": [
    {
     "data": {
      "text/plain": [
       "True"
      ]
     },
     "execution_count": 29,
     "metadata": {},
     "output_type": "execute_result"
    }
   ],
   "source": [
    "1 > 0  # 좌변이 크면 True"
   ]
  },
  {
   "cell_type": "code",
   "execution_count": 30,
   "metadata": {},
   "outputs": [
    {
     "data": {
      "text/plain": [
       "False"
      ]
     },
     "execution_count": 30,
     "metadata": {},
     "output_type": "execute_result"
    }
   ],
   "source": [
    "1 < 0  # 우변이 크면 True"
   ]
  },
  {
   "cell_type": "code",
   "execution_count": 31,
   "metadata": {},
   "outputs": [
    {
     "data": {
      "text/plain": [
       "True"
      ]
     },
     "execution_count": 31,
     "metadata": {},
     "output_type": "execute_result"
    }
   ],
   "source": [
    "1 >= 0  # 좌변이 크거나 같으면 True"
   ]
  },
  {
   "cell_type": "code",
   "execution_count": 32,
   "metadata": {},
   "outputs": [
    {
     "data": {
      "text/plain": [
       "False"
      ]
     },
     "execution_count": 32,
     "metadata": {},
     "output_type": "execute_result"
    }
   ],
   "source": [
    "1 <= 0  # 우변이 크거나 같으면 True"
   ]
  },
  {
   "cell_type": "code",
   "execution_count": 33,
   "metadata": {},
   "outputs": [
    {
     "data": {
      "text/plain": [
       "True"
      ]
     },
     "execution_count": 33,
     "metadata": {},
     "output_type": "execute_result"
    }
   ],
   "source": [
    "x, y, z = 1, 2, 3\n",
    "\n",
    "# x < y and y < z와 같음\n",
    "x < y < z"
   ]
  },
  {
   "cell_type": "code",
   "execution_count": 34,
   "metadata": {},
   "outputs": [
    {
     "data": {
      "text/plain": [
       "False"
      ]
     },
     "execution_count": 34,
     "metadata": {},
     "output_type": "execute_result"
    }
   ],
   "source": [
    "# x < y and y > z와 같음\n",
    "x < y > z  # 문법상으로 올바른지, 가독성이 낮음"
   ]
  },
  {
   "cell_type": "markdown",
   "metadata": {},
   "source": [
    "### if 문에서 자주 사용하는 객체 비교"
   ]
  },
  {
   "cell_type": "code",
   "execution_count": 35,
   "metadata": {},
   "outputs": [
    {
     "data": {
      "text/plain": [
       "False"
      ]
     },
     "execution_count": 35,
     "metadata": {},
     "output_type": "execute_result"
    }
   ],
   "source": [
    "x = 'book'\n",
    "y = 'note'\n",
    "x == y  # 값이 같으면 True"
   ]
  },
  {
   "cell_type": "code",
   "execution_count": 36,
   "metadata": {},
   "outputs": [
    {
     "data": {
      "text/plain": [
       "True"
      ]
     },
     "execution_count": 36,
     "metadata": {},
     "output_type": "execute_result"
    }
   ],
   "source": [
    "x != y  # 값이 같지 않으면 True"
   ]
  },
  {
   "cell_type": "code",
   "execution_count": 37,
   "metadata": {},
   "outputs": [
    {
     "data": {
      "text/plain": [
       "False"
      ]
     },
     "execution_count": 37,
     "metadata": {},
     "output_type": "execute_result"
    }
   ],
   "source": [
    "1항연산자 not \n",
    "2항연산자\n",
    "3항연산자  * ? * : *   이프문축약\n",
    "\n",
    "a==b ? True () : False ()\n",
    "\n",
    "\n",
    "not True == False 1항연산자\n",
    "x is None  # 같은 객체이면 True\n",
    "\n",
    "+ - "
   ]
  },
  {
   "cell_type": "code",
   "execution_count": 38,
   "metadata": {},
   "outputs": [
    {
     "data": {
      "text/plain": [
       "True"
      ]
     },
     "execution_count": 38,
     "metadata": {},
     "output_type": "execute_result"
    }
   ],
   "source": [
    "x is not None  # 같은 객체가 아니면 True"
   ]
  },
  {
   "cell_type": "code",
   "execution_count": 39,
   "metadata": {},
   "outputs": [],
   "source": [
    "# items는 \n",
    "# 리스트 \n",
    "# 튜플, 셋 \n",
    "# 딕셔너니\n",
    "# 배열 어레이 길이가 만들때 고정 \n",
    "# [1,2,3,4,5]  원소 \n",
    "\n",
    "items = ['book', 'note']\n",
    "item = []\n",
    "\n",
    "인덱스 숫자로 가져온다  0,1,2,3,4,\n",
    "리스트 특징 원소 중복가능 길이가 가변\n",
    "추가 삭제 \n",
    "아이템은 키와 벨류를 같이부른다\n",
    "딕셔너리 = { \"키\": \"벨류\" }\n",
    "\n"
   ]
  },
  {
   "cell_type": "code",
   "execution_count": 40,
   "metadata": {},
   "outputs": [
    {
     "data": {
      "text/plain": [
       "True"
      ]
     },
     "execution_count": 40,
     "metadata": {},
     "output_type": "execute_result"
    }
   ],
   "source": [
    "# items에 'book'이 포함되어 있으면 True\n",
    "'book' in items"
   ]
  },
  {
   "cell_type": "code",
   "execution_count": 41,
   "metadata": {},
   "outputs": [
    {
     "data": {
      "text/plain": [
       "False"
      ]
     },
     "execution_count": 41,
     "metadata": {},
     "output_type": "execute_result"
    }
   ],
   "source": [
    "# items에 'book'이 포함되어 있지 않으면 True\n",
    "'book' not in items"
   ]
  },
  {
   "cell_type": "code",
   "execution_count": 42,
   "metadata": {},
   "outputs": [],
   "source": [
    "# count는 딕셔너리\n",
    "count = {'book': 1, 'note': 2}"
   ]
  },
  {
   "cell_type": "code",
   "execution_count": 43,
   "metadata": {},
   "outputs": [
    {
     "data": {
      "text/plain": [
       "True"
      ]
     },
     "execution_count": 43,
     "metadata": {},
     "output_type": "execute_result"
    }
   ],
   "source": [
    "'book' in count  # 딕셔너리에서는 키를 사용해 판정됨"
   ]
  },
  {
   "cell_type": "code",
   "execution_count": 44,
   "metadata": {},
   "outputs": [
    {
     "data": {
      "text/plain": [
       "False"
      ]
     },
     "execution_count": 44,
     "metadata": {},
     "output_type": "execute_result"
    }
   ],
   "source": [
    "1 in count"
   ]
  },
  {
   "cell_type": "markdown",
   "metadata": {},
   "source": [
    "# 루프 ── 처리 반복"
   ]
  },
  {
   "cell_type": "markdown",
   "metadata": {},
   "source": [
    "## for 문 ── 엘리먼트 수만큼 처리를 반복함"
   ]
  },
  {
   "cell_type": "code",
   "execution_count": 45,
   "metadata": {},
   "outputs": [
    {
     "name": "stdout",
     "output_type": "stream",
     "text": [
      "변수i의 값은 1\n",
      "변수i의 값은 2\n",
      "변수i의 값은 3\n"
     ]
    }
   ],
   "source": [
    "\n",
    "과일들 = [\"사과\",\"배\"]\n",
    "\n",
    "# 파이써닉  가독성도 좋고 속도도 다른 구현보다 빠르게 \n",
    "# 단수   복수\n",
    "\n",
    "for 과일 in 과일들:\n",
    "    print(f'과일이름은 {item} 입니다.')\n",
    "    # print(f'{}번째 과일은 {item} 입니다.')\n",
    "\n",
    "for i in range(0,len(과일들)):\n",
    "    print(f'과일이름은 {과일들[i]} 입니다.')\n",
    "    print(f'{i+1}번째 과일은 {item} 입니다.')\n",
    "\n",
    "                    # (idx, 튜플) 2\n",
    "for idx, 과일 in enumerate(과일들): #zip\n",
    "    print(f'과일이름은 {과일} 입니다.')\n",
    "    print(f'{idx+1}번째 과일은 {item} 입니다.')\n",
    "\n",
    "\n"
   ]
  },
  {
   "cell_type": "code",
   "execution_count": 46,
   "metadata": {},
   "outputs": [
    {
     "data": {
      "text/plain": [
       "[1, 2, 3]"
      ]
     },
     "execution_count": 46,
     "metadata": {},
     "output_type": "execute_result"
    }
   ],
   "source": [
    "items"
   ]
  },
  {
   "cell_type": "markdown",
   "metadata": {},
   "source": [
    "### for 문에서 자주 사용하는 내장 함수"
   ]
  },
  {
   "cell_type": "code",
   "execution_count": 47,
   "metadata": {},
   "outputs": [
    {
     "name": "stdout",
     "output_type": "stream",
     "text": [
      "0번째 처리\n",
      "1번째 처리\n",
      "2번째 처리\n"
     ]
    }
   ],
   "source": [
    "(시작값) 종료값 (스탭)\n",
    "\n",
    "# 0부터 2까지고\n",
    "# 3회 반복하라\n",
    "for i in range(0, 3):\n",
    "    print(f'{i}번째 처리')\n"
   ]
  },
  {
   "cell_type": "code",
   "execution_count": 48,
   "metadata": {},
   "outputs": [
    {
     "name": "stdout",
     "output_type": "stream",
     "text": [
      "0번째 문자는 w\n",
      "1번째 문자는 o\n",
      "2번째 문자는 r\n",
      "3번째 문자는 d\n"
     ]
    }
   ],
   "source": [
    "chars = 'word'\n",
    "for count, char in enumerate(chars):\n",
    "    print(f'{count}번째 문자는 {char}')"
   ]
  },
  {
   "cell_type": "markdown",
   "metadata": {},
   "source": [
    "### for 문의 else 절의 동작"
   ]
  },
  {
   "cell_type": "code",
   "execution_count": 49,
   "metadata": {},
   "outputs": [
    {
     "name": "stdout",
     "output_type": "stream",
     "text": [
      "홀수를 포함시켜 주세요\n"
     ]
    }
   ],
   "source": [
    "# 홀수가 없을 때의 메시지 표시\n",
    "nums = [2, 4, 6, 8]\n",
    "for n in nums:\n",
    "    짝수면\n",
    "    if n % 2 == 0:\n",
    "    홀수명    \n",
    "    if n % 2 == 1:\n",
    "        break\n",
    "\n",
    "    if n%2 not in [1,3,5,7,9]:\n",
    "\n",
    "\n",
    "else:\n",
    "    print('홀수를 포함시켜 주세요')"
   ]
  },
  {
   "cell_type": "code",
   "execution_count": 50,
   "metadata": {},
   "outputs": [],
   "source": [
    "# 홀수가 있다면 아무것도 출력하지 않음 奇数\n",
    "nums = [2, 4, 6, 7, 8]\n",
    "for n in nums:\n",
    "    if n % 2 == 1:\n",
    "        break\n",
    "else:\n",
    "    print('홀수를 포함시켜 주세요')"
   ]
  },
  {
   "cell_type": "markdown",
   "metadata": {},
   "source": [
    "### for 문에서의 변수의 스코프"
   ]
  },
  {
   "cell_type": "code",
   "execution_count": 51,
   "metadata": {
    "tags": [
     "raises-exception"
    ]
   },
   "outputs": [
    {
     "ename": "NameError",
     "evalue": "name 'm' is not defined",
     "output_type": "error",
     "traceback": [
      "\u001b[0;31m---------------------------------------------------------------------------\u001b[0m",
      "\u001b[0;31mNameError\u001b[0m                                 Traceback (most recent call last)",
      "\u001b[0;32m<ipython-input-51-e67c85e64524>\u001b[0m in \u001b[0;36m<module>\u001b[0;34m\u001b[0m\n\u001b[1;32m      1\u001b[0m \u001b[0;31m# m이 정의되어 있지 않음을 확인함\u001b[0m\u001b[0;34m\u001b[0m\u001b[0;34m\u001b[0m\u001b[0;34m\u001b[0m\u001b[0m\n\u001b[0;32m----> 2\u001b[0;31m \u001b[0mm\u001b[0m\u001b[0;34m\u001b[0m\u001b[0;34m\u001b[0m\u001b[0m\n\u001b[0m",
      "\u001b[0;31mNameError\u001b[0m: name 'm' is not defined"
     ]
    }
   ],
   "source": [
    "# m이 정의되어 있지 않음을 확인함\n",
    "m"
   ]
  },
  {
   "cell_type": "code",
   "execution_count": 52,
   "metadata": {},
   "outputs": [],
   "source": [
    "for m in range(3):\n",
    "    pass"
   ]
  },
  {
   "cell_type": "code",
   "execution_count": 53,
   "metadata": {},
   "outputs": [
    {
     "data": {
      "text/plain": [
       "2"
      ]
     },
     "execution_count": 53,
     "metadata": {},
     "output_type": "execute_result"
    }
   ],
   "source": [
    "# m이 정의되고, 마지막에 대입된 값인 상태임\n",
    "m"
   ]
  },
  {
   "cell_type": "code",
   "execution_count": 54,
   "metadata": {},
   "outputs": [],
   "source": [
    "# m이 이미 정의되었다면 덮어쓰여짐\n",
    "for m in range(1):\n",
    "    pass"
   ]
  },
  {
   "cell_type": "code",
   "execution_count": 55,
   "metadata": {},
   "outputs": [
    {
     "data": {
      "text/plain": [
       "0"
      ]
     },
     "execution_count": 55,
     "metadata": {},
     "output_type": "execute_result"
    }
   ],
   "source": [
    "m"
   ]
  },
  {
   "cell_type": "markdown",
   "metadata": {},
   "source": [
    "#### 변수를 이용하지 않는 for 문"
   ]
  },
  {
   "cell_type": "code",
   "execution_count": 56,
   "metadata": {},
   "outputs": [
    {
     "name": "stdout",
     "output_type": "stream",
     "text": [
      "반복 처리\n",
      "반복 처리\n",
      "반복 처리\n"
     ]
    }
   ],
   "source": [
    "# 사용하지 않는 변수 이름은 _이 알기 쉬움\n",
    "for _ in range(3):\n",
    "    print('반복 처리')\n",
    "\n",
    "첫째,_,_,마지막 = 1,2,3,4\n",
    "\n"
   ]
  },
  {
   "cell_type": "code",
   "execution_count": 57,
   "metadata": {},
   "outputs": [
    {
     "data": {
      "text/plain": [
       "2"
      ]
     },
     "execution_count": 57,
     "metadata": {},
     "output_type": "execute_result"
    }
   ],
   "source": [
    "# 변수 _가 정의되어 있음\n",
    "_"
   ]
  },
  {
   "cell_type": "markdown",
   "metadata": {},
   "source": [
    "## while 문 ── 조건을 지정해 처리를 반복"
   ]
  },
  {
   "cell_type": "code",
   "execution_count": 58,
   "metadata": {},
   "outputs": [
    {
     "name": "stdout",
     "output_type": "stream",
     "text": [
      "변수 n의 값은 0\n",
      "변수 n의 값은 1\n",
      "변수 n의 값은 2\n"
     ]
    }
   ],
   "source": [
    "포 시작 끝 시작전에 알고  변수들이 포문 안에 있어\n",
    "\n",
    "와일문 무한반복, 와일 조건에 따라 종료시킬때 시작값이 변수 밖에 있어\n",
    "\n",
    "n = 0\n",
    "와일문 뒷부분이 True 인동안 반복\n",
    "while True:\n",
    "    print(f'변수 n의 값은 {n}')\n",
    "    n += 1\n",
    "\n",
    "0 100 출력 for while\n",
    "짝수만 출력 for while\n",
    "포문 하고 와일문으로 출력    \n",
    "\n",
    "구구단 for while"
   ]
  },
  {
   "cell_type": "markdown",
   "metadata": {},
   "source": [
    "### while 문에서의 else 절의 동작"
   ]
  },
  {
   "cell_type": "code",
   "execution_count": 59,
   "metadata": {},
   "outputs": [
    {
     "name": "stdout",
     "output_type": "stream",
     "text": [
      "변수 n의 값은0\n",
      "변수 n의 값은1\n",
      "변수 n의 값은2\n",
      "종료\n"
     ]
    }
   ],
   "source": [
    "n = 0\n",
    "while n < 3:\n",
    "    print(f'변수 n의 값은{n}')\n",
    "    n += 1\n",
    "else:\n",
    "    print('종료')"
   ]
  },
  {
   "cell_type": "markdown",
   "metadata": {},
   "source": [
    "## break 문 ── 루프를 벗어남"
   ]
  },
  {
   "cell_type": "code",
   "execution_count": null,
   "metadata": {},
   "outputs": [
    {
     "ename": "",
     "evalue": "",
     "output_type": "error",
     "traceback": [
      "\u001b[1;31m'Python 3.12.3'(으)로 셀을 실행하려면 ipykernel 패키지가 필요합니다.\n",
      "\u001b[1;31m다음 명령어를 실행하여 Python 환경에 'ipykernel'을(를) 설치합니다. \n",
      "\u001b[1;31m 명령: 'c:/Users/KGITBANK.DESKTOP-9ITP31A/AppData/Local/Programs/Python/Python312/python.exe -m pip install ipykernel -U --user --force-reinstall'"
     ]
    }
   ],
   "source": [
    "브레이크는 현 반복의 끝으로 빠져나간다 \n",
    "\n",
    "컨티뉴는   컨티뉴를 만나는 직시 다음차례로간다\n",
    "           컨티뉴하단을 passing\n",
    "\n",
    "return 만나는 즉시 종료\n",
    "\n",
    "\n",
    "\n",
    "def has_book(items):\n",
    "    for item in items:\n",
    "        if 'book' in item:\n",
    "            print('Found')\n",
    "            break  # 루프를 빠져 나옴\n",
    "    else:\n",
    "        print('Not found')"
   ]
  },
  {
   "cell_type": "code",
   "execution_count": null,
   "metadata": {},
   "outputs": [
    {
     "name": "stdout",
     "output_type": "stream",
     "text": [
      "Not found\n"
     ]
    }
   ],
   "source": [
    "has_book(  ['note']  )"
   ]
  },
  {
   "cell_type": "code",
   "execution_count": 62,
   "metadata": {},
   "outputs": [
    {
     "name": "stdout",
     "output_type": "stream",
     "text": [
      "Found\n"
     ]
    }
   ],
   "source": [
    "has_book(['note', 'notebook'])"
   ]
  },
  {
   "cell_type": "code",
   "execution_count": 63,
   "metadata": {},
   "outputs": [],
   "source": [
    "def has_book(items):\n",
    "    # pop()은 리스트 내용을 변경하므로 사본을 만듬\n",
    "    파괴적\n",
    "    비파괴적\n",
    "    \n",
    "    깊은 복사(Deep Copy)\n",
    "    얕은 복사(Shallow Copy)\n",
    "    \n",
    "    스와로카피\n",
    "    딥카피\n",
    "    메모리주소만 참조\n",
    "    원본에 값을 직접가지고 있는지\n",
    "\n",
    "    items = [1,2] \n",
    "\n",
    "    item = item.pop()\n",
    "    item\n",
    "\n",
    "    # copied = [1,2]\n",
    "\n",
    "    copied = items.copy()\n",
    "\n",
    "    # 리스트가 빌 때까지 루프를 반복함\n",
    "    while copied:\n",
    "        # 마지막 엘리먼트를 꺼냄\n",
    "        item = copied.pop()\n",
    "        if 'book' in item:\n",
    "            print('Found')\n",
    "            break  # 루프를 빠져 나움\n",
    "    else:\n",
    "        print('Not found')"
   ]
  },
  {
   "cell_type": "code",
   "execution_count": 64,
   "metadata": {},
   "outputs": [
    {
     "name": "stdout",
     "output_type": "stream",
     "text": [
      "Not found\n"
     ]
    }
   ],
   "source": [
    "has_book(['note'])"
   ]
  },
  {
   "cell_type": "code",
   "execution_count": 65,
   "metadata": {},
   "outputs": [
    {
     "name": "stdout",
     "output_type": "stream",
     "text": [
      "Found\n"
     ]
    }
   ],
   "source": [
    "has_book(['note', 'notebook'])"
   ]
  },
  {
   "cell_type": "markdown",
   "metadata": {},
   "source": [
    "## continue 문 ── 다음 루프로 이동"
   ]
  },
  {
   "cell_type": "code",
   "execution_count": 66,
   "metadata": {},
   "outputs": [],
   "source": [
    "def list_books(items):\n",
    "    for item in items:\n",
    "        if 'book' not in item:\n",
    "            # 이후의 처리를 건너 뛰고 다음 루프로 이동함\n",
    "            continue\n",
    "        print(item)"
   ]
  },
  {
   "cell_type": "code",
   "execution_count": 67,
   "metadata": {},
   "outputs": [
    {
     "name": "stdout",
     "output_type": "stream",
     "text": [
      "notebook\n",
      "sketchbook\n"
     ]
    }
   ],
   "source": [
    "list_books(['note', 'notebook', 'sketchbook'])"
   ]
  },
  {
   "cell_type": "code",
   "execution_count": 68,
   "metadata": {},
   "outputs": [],
   "source": [
    "def list_books(items):\n",
    "    copied = items.copy()\n",
    "    while copied:\n",
    "        # 가장 앞의 엘리먼트를 꺼냄\n",
    "        item = copied.pop(0)\n",
    "        if 'book' not in item:\n",
    "            # 이후의 처리를 건너 뛰고 다음 루프로 이동함\n",
    "            continue\n",
    "        print(item)"
   ]
  },
  {
   "cell_type": "code",
   "execution_count": 69,
   "metadata": {},
   "outputs": [
    {
     "name": "stdout",
     "output_type": "stream",
     "text": [
      "notebook\n",
      "sketchbook\n"
     ]
    }
   ],
   "source": [
    "list_books(['note', 'notebook', 'sketchbook'])"
   ]
  },
  {
   "cell_type": "markdown",
   "metadata": {},
   "source": [
    "#### 식 안에서 대입을 수행할 수 있는 := 연산자"
   ]
  },
  {
   "cell_type": "code",
   "execution_count": 70,
   "metadata": {},
   "outputs": [],
   "source": [
    "\n",
    "import random"
   ]
  },
  {
   "cell_type": "code",
   "execution_count": 71,
   "metadata": {},
   "outputs": [],
   "source": [
    "def lottery(goods):\n",
    "    # items에 대입을 수행함\n",
    "    시그니처\n",
    "    익스프레션\n",
    "    스테이트먼트\n",
    "\n",
    "   \n",
    "    if item =: 랜덤값:\n",
    "\n",
    "        return item\n",
    "    else:\n",
    "        return 'MISS!!'"
   ]
  },
  {
   "cell_type": "code",
   "execution_count": 72,
   "metadata": {},
   "outputs": [],
   "source": [
    "books = ['notebook', 'sketchbook', None, None, None]"
   ]
  },
  {
   "cell_type": "code",
   "execution_count": 73,
   "metadata": {},
   "outputs": [
    {
     "data": {
      "text/plain": [
       "'MISS!!'"
      ]
     },
     "execution_count": 73,
     "metadata": {},
     "output_type": "execute_result"
    }
   ],
   "source": [
    "# 실행할 때마다 결과가 달라짐\n",
    "lottery(books)"
   ]
  },
  {
   "cell_type": "code",
   "execution_count": 74,
   "metadata": {},
   "outputs": [],
   "source": [
    "def lottery(goods):\n",
    "    item = random.choice(goods)\n",
    "    if item:\n",
    "        return item\n",
    "    else:\n",
    "        return 'MISS!!'"
   ]
  },
  {
   "cell_type": "code",
   "execution_count": 75,
   "metadata": {},
   "outputs": [
    {
     "data": {
      "text/plain": [
       "'MISS!!'"
      ]
     },
     "execution_count": 75,
     "metadata": {},
     "output_type": "execute_result"
    }
   ],
   "source": [
    "lottery(books)"
   ]
  },
  {
   "cell_type": "markdown",
   "metadata": {},
   "source": [
    "# 예외 처리"
   ]
  },
  {
   "cell_type": "code",
   "execution_count": 76,
   "metadata": {
    "tags": [
     "raises-exception"
    ]
   },
   "outputs": [
    {
     "ename": "IndexError",
     "evalue": "list index out of range",
     "output_type": "error",
     "traceback": [
      "\u001b[0;31m---------------------------------------------------------------------------\u001b[0m",
      "\u001b[0;31mIndexError\u001b[0m                                Traceback (most recent call last)",
      "\u001b[0;32m<ipython-input-76-2114f96bd910>\u001b[0m in \u001b[0;36m<module>\u001b[0;34m\u001b[0m\n\u001b[1;32m      1\u001b[0m \u001b[0mitems\u001b[0m \u001b[0;34m=\u001b[0m \u001b[0;34m[\u001b[0m\u001b[0;36m1\u001b[0m\u001b[0;34m,\u001b[0m \u001b[0;36m2\u001b[0m\u001b[0;34m,\u001b[0m \u001b[0;36m3\u001b[0m\u001b[0;34m]\u001b[0m\u001b[0;34m\u001b[0m\u001b[0;34m\u001b[0m\u001b[0m\n\u001b[0;32m----> 2\u001b[0;31m \u001b[0mitems\u001b[0m\u001b[0;34m[\u001b[0m\u001b[0;36m10\u001b[0m\u001b[0;34m]\u001b[0m\u001b[0;34m\u001b[0m\u001b[0;34m\u001b[0m\u001b[0m\n\u001b[0m",
      "\u001b[0;31mIndexError\u001b[0m: list index out of range"
     ]
    }
   ],
   "source": [
    "에러 나면 어떻게 처리 \n",
    "예외처리 \n",
    "\n",
    "파이썬 미리 다 준비해뒀어 \n",
    "\n",
    "if\n",
    "else if\n",
    "else\n",
    "\n",
    "try:  \n",
    "    import asdfsfsdfsfs\n",
    "\n",
    "\n",
    "\n",
    "\n",
    "except Exception as e:\n",
    "    print(e)\n",
    "\n",
    "\n",
    "\n",
    "\n",
    "\n",
    "\n",
    "\n",
    "items = [1, 2, 3]\n",
    "\n",
    "i = 10\n",
    "try:\n",
    "    print(items[i])\n",
    "except Exception as e:\n",
    "    print(e)\n",
    "    for i in range(0, len(items)):\n",
    "        i -= 1\n",
    "        print(items[i])\n",
    "\n"
   ]
  },
  {
   "cell_type": "markdown",
   "metadata": {},
   "source": [
    "## try 문 ── 예외 포착"
   ]
  },
  {
   "cell_type": "code",
   "execution_count": 77,
   "metadata": {},
   "outputs": [],
   "source": [
    "def get_book(index):\n",
    "    items = ['note', 'notebook', 'sketchbook']\n",
    "    try:\n",
    "        return items[index]\n",
    "    except IndexError:\n",
    "        return '범위 밖입니다'    "
   ]
  },
  {
   "cell_type": "code",
   "execution_count": 78,
   "metadata": {},
   "outputs": [
    {
     "data": {
      "text/plain": [
       "'범위 밖입니다'"
      ]
     },
     "execution_count": 78,
     "metadata": {},
     "output_type": "execute_result"
    }
   ],
   "source": [
    "get_book(10)  # IndexError를 적절히 처리하고 있음"
   ]
  },
  {
   "cell_type": "markdown",
   "metadata": {},
   "source": [
    "### except 절 ── 예외가 발생했을 때만 실행함"
   ]
  },
  {
   "cell_type": "code",
   "execution_count": 79,
   "metadata": {},
   "outputs": [],
   "source": [
    "def get_book(index):\n",
    "    items = ['note', 'notebook', 'sketchbook']\n",
    "    try:\n",
    "        return items[index]\n",
    "    except (IndexError, TypeError) as e:\n",
    "        print(f'예외가 발생했습니다: {e}')\n",
    "        return '범위 밖입니다'"
   ]
  },
  {
   "cell_type": "code",
   "execution_count": 80,
   "metadata": {},
   "outputs": [
    {
     "name": "stdout",
     "output_type": "stream",
     "text": [
      "예외가 발생했습니다: list index out of range\n"
     ]
    },
    {
     "data": {
      "text/plain": [
       "'범위 밖입니다'"
      ]
     },
     "execution_count": 80,
     "metadata": {},
     "output_type": "execute_result"
    }
   ],
   "source": [
    "# IndexError가 발생함\n",
    "get_book(3)"
   ]
  },
  {
   "cell_type": "code",
   "execution_count": 81,
   "metadata": {},
   "outputs": [
    {
     "name": "stdout",
     "output_type": "stream",
     "text": [
      "예외가 발생했습니다: list indices must be integers or slices, not str\n"
     ]
    },
    {
     "data": {
      "text/plain": [
       "'범위 밖입니다'"
      ]
     },
     "execution_count": 81,
     "metadata": {},
     "output_type": "execute_result"
    }
   ],
   "source": [
    "# TypeError가 발생함\n",
    "get_book('3')"
   ]
  },
  {
   "cell_type": "code",
   "execution_count": 82,
   "metadata": {},
   "outputs": [],
   "source": [
    "def get_book(index):\n",
    "    items = ['note', 'notebook', 'sketchbook']\n",
    "    try:\n",
    "        return items[index]\n",
    "    except IndexError:\n",
    "        print('IndexError가 발생했습니다')\n",
    "        return '범위 밖입니다'\n",
    "    except TypeError:\n",
    "        print('TypeError가 발생했습니다')\n",
    "        return '범위 밖입니다'"
   ]
  },
  {
   "cell_type": "code",
   "execution_count": 83,
   "metadata": {},
   "outputs": [
    {
     "name": "stdout",
     "output_type": "stream",
     "text": [
      "IndexError가 발생했습니다\n"
     ]
    },
    {
     "data": {
      "text/plain": [
       "'범위 밖입니다'"
      ]
     },
     "execution_count": 83,
     "metadata": {},
     "output_type": "execute_result"
    }
   ],
   "source": [
    "get_book(3)"
   ]
  },
  {
   "cell_type": "code",
   "execution_count": 84,
   "metadata": {},
   "outputs": [
    {
     "name": "stdout",
     "output_type": "stream",
     "text": [
      "TypeError가 발생했습니다\n"
     ]
    },
    {
     "data": {
      "text/plain": [
       "'범위 밖입니다'"
      ]
     },
     "execution_count": 84,
     "metadata": {},
     "output_type": "execute_result"
    }
   ],
   "source": [
    "get_book('3')"
   ]
  },
  {
   "cell_type": "code",
   "execution_count": 85,
   "metadata": {},
   "outputs": [],
   "source": [
    "def get_book(index):\n",
    "    items = ['note', 'notebook', 'sketchbook']\n",
    "    try:\n",
    "        return items[index]\n",
    "    except TypeError:  # IndexError는 포착하지 않음\n",
    "        print(f'TypeError가 발생했습니다')\n",
    "        return '범위 밖입니다'"
   ]
  },
  {
   "cell_type": "code",
   "execution_count": 86,
   "metadata": {},
   "outputs": [],
   "source": [
    "def get_book_wrapper(index):\n",
    "    try:\n",
    "        # IndexError는 그대로 다시 보내짐\n",
    "        return get_book(index)\n",
    "    except IndexError:\n",
    "        print(f'IndexError가 발생했했습니다')\n",
    "        return '범위 밖입니다'"
   ]
  },
  {
   "cell_type": "code",
   "execution_count": 87,
   "metadata": {},
   "outputs": [
    {
     "name": "stdout",
     "output_type": "stream",
     "text": [
      "IndexError가 발생했했습니다\n"
     ]
    },
    {
     "data": {
      "text/plain": [
       "'범위 밖입니다'"
      ]
     },
     "execution_count": 87,
     "metadata": {},
     "output_type": "execute_result"
    }
   ],
   "source": [
    "get_book_wrapper(3)"
   ]
  },
  {
   "cell_type": "markdown",
   "metadata": {},
   "source": [
    "### else 절── 예외가 발생하지 않았을 때만 실행함"
   ]
  },
  {
   "cell_type": "code",
   "execution_count": 88,
   "metadata": {},
   "outputs": [],
   "source": [
    "def get_book_upper(index):\n",
    "    items = ['note', 'notebook', 'sketchbook']\n",
    "    try:\n",
    "        book = str(items[index])\n",
    "        return book.upper()\n",
    "    except (IndexError, TypeError) as e:\n",
    "        print(f'예외가 발생했습니다: {e}')"
   ]
  },
  {
   "cell_type": "code",
   "execution_count": 89,
   "metadata": {},
   "outputs": [],
   "source": [
    "def get_book_upper(index):\n",
    "    items = ['note', 'notebook', 'sketchbook']\n",
    "    try:\n",
    "        book = str(items[index])\n",
    "    except (IndexError, TypeError) as e:\n",
    "        print(f'예외가 발생했습니다: {e}')\n",
    "    else:\n",
    "        return book.upper()"
   ]
  },
  {
   "cell_type": "markdown",
   "metadata": {},
   "source": [
    "### finally 절 ── 예외 유무와 관계없이 반드시 실행힘"
   ]
  },
  {
   "cell_type": "code",
   "execution_count": 90,
   "metadata": {},
   "outputs": [
    {
     "name": "stdout",
     "output_type": "stream",
     "text": [
      "예외가 발생했습니다: not readable\n",
      "파일을 닫습니다\n"
     ]
    }
   ],
   "source": [
    "# 만들어진 some.txt는 다음 항목 진행 전 삭제함\n",
    "from io import UnsupportedOperation \n",
    "\n",
    "# 파일을 쓰기 모드로 염\n",
    "# import os\n",
    "# os.getcwd()\n",
    "f = open('some.txt', mode=)\n",
    "\n",
    "try:\n",
    "    # 쓰기 모드이므로 읽을 수 없음\n",
    "    f.read()\n",
    "except UnsupportedOperation as e:\n",
    "    print(f'예외가 발생했습니다: {e}')\n",
    "finally:\n",
    "    print('파일을 닫습니다')\n",
    "    f.close()"
   ]
  },
  {
   "cell_type": "code",
   "execution_count": 91,
   "metadata": {},
   "outputs": [
    {
     "name": "stdout",
     "output_type": "stream",
     "text": [
      "\n",
      "파일을 닫습니다\n"
     ]
    }
   ],
   "source": [
    "# 파일을 읽기 모드로 염\n",
    "f = open('some.txt', 'r')\n",
    "try:\n",
    "    print(f.read())\n",
    "finally:\n",
    "    print('파일을 닫습니다')\n",
    "    f.close()"
   ]
  },
  {
   "cell_type": "code",
   "execution_count": 92,
   "metadata": {
    "tags": [
     "raises-exception"
    ]
   },
   "outputs": [
    {
     "name": "stdout",
     "output_type": "stream",
     "text": [
      "파일을 닫습니다\n"
     ]
    },
    {
     "ename": "UnsupportedOperation",
     "evalue": "not writable",
     "output_type": "error",
     "traceback": [
      "\u001b[0;31m---------------------------------------------------------------------------\u001b[0m",
      "\u001b[0;31mUnsupportedOperation\u001b[0m                      Traceback (most recent call last)",
      "\u001b[0;32m<ipython-input-92-0f4a13f4cf13>\u001b[0m in \u001b[0;36m<module>\u001b[0;34m\u001b[0m\n\u001b[1;32m      2\u001b[0m \u001b[0;32mtry\u001b[0m\u001b[0;34m:\u001b[0m\u001b[0;34m\u001b[0m\u001b[0;34m\u001b[0m\u001b[0m\n\u001b[1;32m      3\u001b[0m     \u001b[0;31m# 읽기 모드이므로 쓸 수 없음\u001b[0m\u001b[0;34m\u001b[0m\u001b[0;34m\u001b[0m\u001b[0;34m\u001b[0m\u001b[0m\n\u001b[0;32m----> 4\u001b[0;31m     \u001b[0mf\u001b[0m\u001b[0;34m.\u001b[0m\u001b[0mwrite\u001b[0m\u001b[0;34m(\u001b[0m\u001b[0;34m'egg'\u001b[0m\u001b[0;34m)\u001b[0m\u001b[0;34m\u001b[0m\u001b[0;34m\u001b[0m\u001b[0m\n\u001b[0m\u001b[1;32m      5\u001b[0m \u001b[0;32mfinally\u001b[0m\u001b[0;34m:\u001b[0m\u001b[0;34m\u001b[0m\u001b[0;34m\u001b[0m\u001b[0m\n\u001b[1;32m      6\u001b[0m     \u001b[0mprint\u001b[0m\u001b[0;34m(\u001b[0m\u001b[0;34m'파일을 닫습니다'\u001b[0m\u001b[0;34m)\u001b[0m\u001b[0;34m\u001b[0m\u001b[0;34m\u001b[0m\u001b[0m\n",
      "\u001b[0;31mUnsupportedOperation\u001b[0m: not writable"
     ]
    }
   ],
   "source": [
    "f = open('some.txt', 'r')\n",
    "try:\n",
    "    # 읽기 모드이므로 쓸 수 없음\n",
    "    f.write('egg')\n",
    "finally:\n",
    "    print('파일을 닫습니다')\n",
    "    f.close()"
   ]
  },
  {
   "cell_type": "markdown",
   "metadata": {},
   "source": [
    "## raise 문 ── 의도적으로 예외를 발생시킴"
   ]
  },
  {
   "cell_type": "code",
   "execution_count": 93,
   "metadata": {
    "tags": [
     "raises-exception"
    ]
   },
   "outputs": [
    {
     "ename": "ValueError",
     "evalue": "올바르지 않은 인수입니다",
     "output_type": "error",
     "traceback": [
      "\u001b[0;31m---------------------------------------------------------------------------\u001b[0m",
      "\u001b[0;31mValueError\u001b[0m                                Traceback (most recent call last)",
      "\u001b[0;32m<ipython-input-93-59ae17a4d27f>\u001b[0m in \u001b[0;36m<module>\u001b[0;34m\u001b[0m\n\u001b[1;32m      1\u001b[0m \u001b[0;31m# 의도적으로 예외를 발생시킴\u001b[0m\u001b[0;34m\u001b[0m\u001b[0;34m\u001b[0m\u001b[0;34m\u001b[0m\u001b[0m\n\u001b[0;32m----> 2\u001b[0;31m \u001b[0;32mraise\u001b[0m \u001b[0mValueError\u001b[0m\u001b[0;34m(\u001b[0m\u001b[0;34m'올바르지 않은 인수입니다'\u001b[0m\u001b[0;34m)\u001b[0m\u001b[0;34m\u001b[0m\u001b[0;34m\u001b[0m\u001b[0m\n\u001b[0m",
      "\u001b[0;31mValueError\u001b[0m: 올바르지 않은 인수입니다"
     ]
    }
   ],
   "source": [
    "# 의도적으로 예외를 발생시킴\n",
    "raise ValueError('올바르지 않은 인수입니다')"
   ]
  },
  {
   "cell_type": "code",
   "execution_count": 94,
   "metadata": {},
   "outputs": [],
   "source": [
    "def get_book(index):\n",
    "    items = ['note', 'notebook', 'sketchbook']\n",
    "    try:\n",
    "        return items[index]\n",
    "    except IndexError as e:\n",
    "        print('IndexError가 발생했습니다')\n",
    "        raise\n",
    "        "
   ]
  },
  {
   "cell_type": "code",
   "execution_count": 95,
   "metadata": {
    "tags": [
     "raises-exception"
    ]
   },
   "outputs": [
    {
     "name": "stdout",
     "output_type": "stream",
     "text": [
      "IndexError가 발생했습니다\n"
     ]
    },
    {
     "ename": "IndexError",
     "evalue": "list index out of range",
     "output_type": "error",
     "traceback": [
      "\u001b[0;31m---------------------------------------------------------------------------\u001b[0m",
      "\u001b[0;31mIndexError\u001b[0m                                Traceback (most recent call last)",
      "\u001b[0;32m<ipython-input-95-9b22def63b1c>\u001b[0m in \u001b[0;36m<module>\u001b[0;34m\u001b[0m\n\u001b[0;32m----> 1\u001b[0;31m \u001b[0mget_book\u001b[0m\u001b[0;34m(\u001b[0m\u001b[0;36m3\u001b[0m\u001b[0;34m)\u001b[0m\u001b[0;34m\u001b[0m\u001b[0;34m\u001b[0m\u001b[0m\n\u001b[0m",
      "\u001b[0;32m<ipython-input-94-a7b78ec90f61>\u001b[0m in \u001b[0;36mget_book\u001b[0;34m(index)\u001b[0m\n\u001b[1;32m      2\u001b[0m     \u001b[0mitems\u001b[0m \u001b[0;34m=\u001b[0m \u001b[0;34m[\u001b[0m\u001b[0;34m'note'\u001b[0m\u001b[0;34m,\u001b[0m \u001b[0;34m'notebook'\u001b[0m\u001b[0;34m,\u001b[0m \u001b[0;34m'sketchbook'\u001b[0m\u001b[0;34m]\u001b[0m\u001b[0;34m\u001b[0m\u001b[0;34m\u001b[0m\u001b[0m\n\u001b[1;32m      3\u001b[0m     \u001b[0;32mtry\u001b[0m\u001b[0;34m:\u001b[0m\u001b[0;34m\u001b[0m\u001b[0;34m\u001b[0m\u001b[0m\n\u001b[0;32m----> 4\u001b[0;31m         \u001b[0;32mreturn\u001b[0m \u001b[0mitems\u001b[0m\u001b[0;34m[\u001b[0m\u001b[0mindex\u001b[0m\u001b[0;34m]\u001b[0m\u001b[0;34m\u001b[0m\u001b[0;34m\u001b[0m\u001b[0m\n\u001b[0m\u001b[1;32m      5\u001b[0m     \u001b[0;32mexcept\u001b[0m \u001b[0mIndexError\u001b[0m \u001b[0;32mas\u001b[0m \u001b[0me\u001b[0m\u001b[0;34m:\u001b[0m\u001b[0;34m\u001b[0m\u001b[0;34m\u001b[0m\u001b[0m\n\u001b[1;32m      6\u001b[0m         \u001b[0mprint\u001b[0m\u001b[0;34m(\u001b[0m\u001b[0;34m'IndexError가 발생했습니다'\u001b[0m\u001b[0;34m)\u001b[0m\u001b[0;34m\u001b[0m\u001b[0;34m\u001b[0m\u001b[0m\n",
      "\u001b[0;31mIndexError\u001b[0m: list index out of range"
     ]
    }
   ],
   "source": [
    "get_book(3)"
   ]
  },
  {
   "cell_type": "markdown",
   "metadata": {},
   "source": [
    "## 사용자 예외 정의하기"
   ]
  },
  {
   "cell_type": "code",
   "execution_count": 96,
   "metadata": {},
   "outputs": [],
   "source": [
    "class PracticeBookError(Exception):\n",
    "    \"\"\"모듈 고유 예외 베이스 클래스\"\"\""
   ]
  },
  {
   "cell_type": "code",
   "execution_count": 97,
   "metadata": {},
   "outputs": [],
   "source": [
    "class PageNotFoundError(PracticeBookError):\n",
    "    \"\"\"페이지를 발견하지 못했을 때의 예외\"\"\"\n",
    "    def __init__(self, message):\n",
    "        self.message = message\n",
    "\n",
    "class InvalidPageNumberError(PracticeBookError):\n",
    "    \"\"\"정확하지 않은 페이지 번호를 지정했을 때의 예외\"\"\"\n",
    "    def __init__(self, message):\n",
    "        self.message = message"
   ]
  },
  {
   "cell_type": "markdown",
   "metadata": {},
   "source": [
    "## with 문 ── 정의한 클린업 처리를 반드시 실행함"
   ]
  },
  {
   "cell_type": "code",
   "execution_count": 98,
   "metadata": {},
   "outputs": [],
   "source": [
    "# f에 파일 객체가 대입됨\n",
    "\n",
    "# 묻지만 이패턴 \n",
    "Exception as e\n",
    "\n",
    "with open('some.txt', 'w') as f:\n",
    "    print(f.read)\n",
    "    print(f.readline)\n",
    "    print(f.readlines)\n",
    "    \n",
    "    f.write('some text')\n",
    "    f.writelines(\"dfdsfsfs\")\n",
    "\n",
    "\n"
   ]
  },
  {
   "cell_type": "code",
   "execution_count": 99,
   "metadata": {},
   "outputs": [
    {
     "data": {
      "text/plain": [
       "True"
      ]
     },
     "execution_count": 99,
     "metadata": {},
     "output_type": "execute_result"
    }
   ],
   "source": [
    "# 파일 객체가 닫혀있음을 확인\n",
    "f.closed"
   ]
  },
  {
   "cell_type": "code",
   "execution_count": 100,
   "metadata": {},
   "outputs": [
    {
     "data": {
      "text/plain": [
       "9"
      ]
     },
     "execution_count": 100,
     "metadata": {},
     "output_type": "execute_result"
    }
   ],
   "source": [
    "f = open('some.txt', 'w')\n",
    "f.write('some text')"
   ]
  },
  {
   "cell_type": "code",
   "execution_count": 101,
   "metadata": {},
   "outputs": [
    {
     "data": {
      "text/plain": [
       "False"
      ]
     },
     "execution_count": 101,
     "metadata": {},
     "output_type": "execute_result"
    }
   ],
   "source": [
    "# 파일 객체는 아직 닫혀 있지 않음\n",
    "f.closed"
   ]
  },
  {
   "cell_type": "code",
   "execution_count": 102,
   "metadata": {},
   "outputs": [
    {
     "data": {
      "text/plain": [
       "True"
      ]
     },
     "execution_count": 102,
     "metadata": {},
     "output_type": "execute_result"
    }
   ],
   "source": [
    "# 파일 객체를 명시적으로 닫음\n",
    "f.close()\n",
    "f.closed"
   ]
  },
  {
   "cell_type": "markdown",
   "metadata": {},
   "source": [
    "# 정리"
   ]
  }
 ],
 "metadata": {
  "kernelspec": {
   "display_name": "Python 3",
   "language": "python",
   "name": "python3"
  },
  "language_info": {
   "codemirror_mode": {
    "name": "ipython",
    "version": 3
   },
   "file_extension": ".py",
   "mimetype": "text/x-python",
   "name": "python",
   "nbconvert_exporter": "python",
   "pygments_lexer": "ipython3",
   "version": "3.12.3"
  }
 },
 "nbformat": 4,
 "nbformat_minor": 4
}
