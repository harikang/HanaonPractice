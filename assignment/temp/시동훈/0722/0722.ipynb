{
 "cells": [
  {
   "cell_type": "code",
   "execution_count": 1,
   "metadata": {},
   "outputs": [
    {
     "name": "stdout",
     "output_type": "stream",
     "text": [
      "야옹\n",
      "미야옹\n"
     ]
    }
   ],
   "source": [
    "class Cat:\n",
    "    def meow(self):\n",
    "        print(\"야옹\")\n",
    "    def sing(self):\n",
    "        self.meow()\n",
    "        print(\"미야옹\")\n",
    "\n",
    "cat1 = Cat()\n",
    "\n",
    "cat1.sing()"
   ]
  },
  {
   "cell_type": "code",
   "execution_count": 2,
   "metadata": {},
   "outputs": [
    {
     "name": "stdout",
     "output_type": "stream",
     "text": [
      "고양이 이름은 블루 색깔은 회색\n"
     ]
    }
   ],
   "source": [
    "\n",
    "class Cat:\n",
    "    def info(self): #info() 메소드\n",
    "        self.name = \"블루\" #인스턴스 변수 name 생성\n",
    "        self.color = \"회색\" #인스턴스 변수 color\n",
    "        print('고양이 이름은', self.name, '색깔은', self.color)\n",
    "\n",
    "\n",
    "cat = Cat() #인스턴스 생성\n",
    "cat.info() #인스턴스의 메소드 실행"
   ]
  },
  {
   "cell_type": "code",
   "execution_count": 3,
   "metadata": {},
   "outputs": [
    {
     "name": "stdout",
     "output_type": "stream",
     "text": [
      "고양이 이름은 블루 색깔은 회색\n",
      "고양이 이름은 미미 색깔은 갈색\n"
     ]
    }
   ],
   "source": [
    "class Cat:\n",
    "     #생성자 혹은 초기화 메소드라 한다.\n",
    "    def __init__(self, name, color):\n",
    "        self.name = name #self.name 변수는 각각 cat1, cat2 인스턴스의 name을 가리킴\n",
    "        self.color = color \n",
    "        \n",
    "    #고양이 클래스의 정보를 출력하는 메소드\n",
    "    def info(self):\n",
    "        print('고양이 이름은', self.name, '색깔은', self.color)\n",
    "        \n",
    "cat1 = Cat(\"블루\",\"회색\") #cat1 인스턴스 생성\n",
    "cat2 = Cat(\"미미\",\"갈색\") #cat2 인스턴스 생성\n",
    "\n",
    "cat1.info()\n",
    "cat2.info()"
   ]
  },
  {
   "cell_type": "code",
   "execution_count": 7,
   "metadata": {},
   "outputs": [
    {
     "ename": "SyntaxError",
     "evalue": "invalid syntax. Perhaps you forgot a comma? (4071914746.py, line 7)",
     "output_type": "error",
     "traceback": [
      "\u001b[0;36m  Cell \u001b[0;32mIn[7], line 7\u001b[0;36m\u001b[0m\n\u001b[0;31m    ['__builtins__', ... '__name__', '__package__', '__path__', '__spec__']\u001b[0m\n\u001b[0m                     ^\u001b[0m\n\u001b[0;31mSyntaxError\u001b[0m\u001b[0;31m:\u001b[0m invalid syntax. Perhaps you forgot a comma?\n"
     ]
    }
   ],
   "source": [
    ">>> import b64\n",
    ">>> b64.str_to_base64('ham')  # 지금은 에러\n",
    ">>> b64.base64_to_str(b'aGFt')  # 지금은 에러\n",
    "\n",
    ">>> import b64\n",
    ">>> dir(b64)  # str_to_base64와 base64_to_str은 아직 없음\n",
    "['__builtins__', ... '__name__', '__package__', '__path__', '__spec__']\n",
    "\n",
    "(주:b64/__init__.py)\n",
    "from .encoder import str_to_base64\n",
    "from .decoder import base64_to_str\n",
    "\n",
    "import b64"
   ]
  },
  {
   "cell_type": "code",
   "execution_count": null,
   "metadata": {},
   "outputs": [],
   "source": []
  }
 ],
 "metadata": {
  "kernelspec": {
   "display_name": "Python 3",
   "language": "python",
   "name": "python3"
  },
  "language_info": {
   "codemirror_mode": {
    "name": "ipython",
    "version": 3
   },
   "file_extension": ".py",
   "mimetype": "text/x-python",
   "name": "python",
   "nbconvert_exporter": "python",
   "pygments_lexer": "ipython3",
   "version": "3.12.4"
  }
 },
 "nbformat": 4,
 "nbformat_minor": 2
}
