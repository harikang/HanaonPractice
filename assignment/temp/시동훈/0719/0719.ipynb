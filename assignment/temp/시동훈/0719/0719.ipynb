{
 "cells": [
  {
   "cell_type": "code",
   "execution_count": 2,
   "metadata": {},
   "outputs": [
    {
     "ename": "SyntaxError",
     "evalue": "invalid syntax (3916999002.py, line 3)",
     "output_type": "error",
     "traceback": [
      "\u001b[0;36m  Cell \u001b[0;32mIn[2], line 3\u001b[0;36m\u001b[0m\n\u001b[0;31m    십일을 오제곱한 결과 = math.pow(11, 5)\u001b[0m\n\u001b[0m        ^\u001b[0m\n\u001b[0;31mSyntaxError\u001b[0m\u001b[0;31m:\u001b[0m invalid syntax\n"
     ]
    }
   ],
   "source": [
    "import math\n",
    "\n",
    "십일을 오제곱한 결과 = math.pow(11, 5)\n",
    "\n",
    "11 ** 5 #5제곱 * **"
   ]
  },
  {
   "cell_type": "code",
   "execution_count": 3,
   "metadata": {},
   "outputs": [
    {
     "ename": "SyntaxError",
     "evalue": "invalid syntax (3769199834.py, line 1)",
     "output_type": "error",
     "traceback": [
      "\u001b[0;36m  Cell \u001b[0;32mIn[3], line 1\u001b[0;36m\u001b[0m\n\u001b[0;31m    int 타입은 자릿수 제한이 없음\u001b[0m\n\u001b[0m        ^\u001b[0m\n\u001b[0;31mSyntaxError\u001b[0m\u001b[0;31m:\u001b[0m invalid syntax\n"
     ]
    }
   ],
   "source": [
    "int 타입은 자릿수 제한이 없음\n",
    "\n",
    "float 타입\n",
    "\n",
    "type(1e-5)\n",
    "1*10**5\n"
   ]
  },
  {
   "cell_type": "code",
   "execution_count": 4,
   "metadata": {},
   "outputs": [
    {
     "data": {
      "text/plain": [
       "['note', 'notebok', 'sketchbook', 'paperbook']"
      ]
     },
     "execution_count": 4,
     "metadata": {},
     "output_type": "execute_result"
    }
   ],
   "source": [
    "items = ['note', 'notebok', 'sketchbook']\n",
    "\n",
    "items.append('paperbook')\n",
    "items"
   ]
  },
  {
   "cell_type": "code",
   "execution_count": 5,
   "metadata": {},
   "outputs": [
    {
     "ename": "ModuleNotFoundError",
     "evalue": "No module named 'FreeSimpleGUI'",
     "output_type": "error",
     "traceback": [
      "\u001b[0;31m---------------------------------------------------------------------------\u001b[0m",
      "\u001b[0;31mModuleNotFoundError\u001b[0m                       Traceback (most recent call last)",
      "Cell \u001b[0;32mIn[5], line 1\u001b[0m\n\u001b[0;32m----> 1\u001b[0m \u001b[38;5;28;01mimport\u001b[39;00m \u001b[38;5;21;01mFreeSimpleGUI\u001b[39;00m \u001b[38;5;28;01mas\u001b[39;00m \u001b[38;5;21;01msg\u001b[39;00m    \n\u001b[1;32m      3\u001b[0m 과일바구니 \u001b[38;5;241m=\u001b[39m[\u001b[38;5;124m'\u001b[39m\u001b[38;5;124m딸기\u001b[39m\u001b[38;5;124m'\u001b[39m,\u001b[38;5;124m'\u001b[39m\u001b[38;5;124m사과\u001b[39m\u001b[38;5;124m'\u001b[39m]\n\u001b[1;32m      5\u001b[0m layout \u001b[38;5;241m=\u001b[39m [[sg\u001b[38;5;241m.\u001b[39mText(\u001b[38;5;124m'\u001b[39m\u001b[38;5;124m과일명을 입력해주세요\u001b[39m\u001b[38;5;124m'\u001b[39m)],      \n\u001b[1;32m      6\u001b[0m                  [sg\u001b[38;5;241m.\u001b[39mInputText()],      \n\u001b[1;32m      7\u001b[0m                  [sg\u001b[38;5;241m.\u001b[39mSubmit(), sg\u001b[38;5;241m.\u001b[39mCancel()]]      \n",
      "\u001b[0;31mModuleNotFoundError\u001b[0m: No module named 'FreeSimpleGUI'"
     ]
    }
   ],
   "source": [
    "import FreeSimpleGUI as sg    \n",
    "\n",
    "과일바구니 =['딸기','사과']\n",
    "\n",
    "layout = [[sg.Text('과일명을 입력해주세요')],      \n",
    "                 [sg.InputText()],      \n",
    "                 [sg.Submit(), sg.Cancel()]]      \n",
    "\n",
    "window = sg.Window('과일가게', layout)    \n",
    "\n",
    "event, values = window.read()    \n",
    "window.close()\n",
    "\n",
    "text_input = values[0]    \n",
    "sg.popup('담은과일:', text_input)\n",
    "과일바구니.append(text_input)\n",
    "sg.popup('과일바구니:', 과일바구니)    "
   ]
  },
  {
   "cell_type": "code",
   "execution_count": null,
   "metadata": {},
   "outputs": [],
   "source": [
    "핸션 = [ x, for x in range(0, 100) if x > 10]\n",
    "\n",
    "def 숫자들합(*args):\n",
    "    누적합 = 0\n",
    "    for item in args:\n",
    "        누적합 += item\n",
    "    return 누적합\n",
    "\n",
    "숫자들 = [1,2,3,4,5]\n",
    "\n",
    "결과 = 숫자들 합 구함\n",
    "\n",
    "print(결과)"
   ]
  },
  {
   "cell_type": "code",
   "execution_count": 6,
   "metadata": {},
   "outputs": [
    {
     "ename": "SyntaxError",
     "evalue": "expected '(' (3286933859.py, line 1)",
     "output_type": "error",
     "traceback": [
      "\u001b[0;36m  Cell \u001b[0;32mIn[6], line 1\u001b[0;36m\u001b[0m\n\u001b[0;31m    def asdf\u001b[0m\n\u001b[0m            ^\u001b[0m\n\u001b[0;31mSyntaxError\u001b[0m\u001b[0;31m:\u001b[0m expected '('\n"
     ]
    }
   ],
   "source": [
    "def asdf\n",
    "\n",
    "filtered = filter(asdf, nums)\n",
    "list(filtered)"
   ]
  },
  {
   "cell_type": "code",
   "execution_count": 7,
   "metadata": {},
   "outputs": [
    {
     "ename": "NameError",
     "evalue": "name 'nums' is not defined",
     "output_type": "error",
     "traceback": [
      "\u001b[0;31m---------------------------------------------------------------------------\u001b[0m",
      "\u001b[0;31mNameError\u001b[0m                                 Traceback (most recent call last)",
      "Cell \u001b[0;32mIn[7], line 1\u001b[0m\n\u001b[0;32m----> 1\u001b[0m filtered \u001b[38;5;241m=\u001b[39m \u001b[38;5;28mfilter\u001b[39m(\u001b[38;5;28;01mlambda\u001b[39;00m x: \u001b[38;5;28mlen\u001b[39m(x) \u001b[38;5;241m==\u001b[39m \u001b[38;5;241m3\u001b[39m, nums)\n\u001b[1;32m      2\u001b[0m \u001b[38;5;28mlist\u001b[39m(filtered)\n",
      "\u001b[0;31mNameError\u001b[0m: name 'nums' is not defined"
     ]
    }
   ],
   "source": [
    "filtered = filter(lambda x: len(x) == 3, nums)\n",
    "list(filtered)"
   ]
  },
  {
   "cell_type": "code",
   "execution_count": 9,
   "metadata": {},
   "outputs": [
    {
     "ename": "NameError",
     "evalue": "name 'mappped' is not defined",
     "output_type": "error",
     "traceback": [
      "\u001b[0;31m---------------------------------------------------------------------------\u001b[0m",
      "\u001b[0;31mNameError\u001b[0m                                 Traceback (most recent call last)",
      "Cell \u001b[0;32mIn[9], line 8\u001b[0m\n\u001b[1;32m      4\u001b[0m     \u001b[38;5;28;01mreturn\u001b[39;00m num\u001b[38;5;241m*\u001b[39m\u001b[38;5;241m2\u001b[39m\n\u001b[1;32m      6\u001b[0m mapped \u001b[38;5;241m=\u001b[39m \u001b[38;5;28mmap\u001b[39m(two_x, 숫자들)\n\u001b[0;32m----> 8\u001b[0m \u001b[38;5;28mprint\u001b[39m(\u001b[38;5;28mlist\u001b[39m(mappped))\n",
      "\u001b[0;31mNameError\u001b[0m: name 'mappped' is not defined"
     ]
    }
   ],
   "source": [
    "숫자들 = [1,2,3,4,5]\n",
    "\n",
    "def two_x(num):\n",
    "    return num*2\n",
    "\n",
    "mapped = map(two_x, 숫자들)\n",
    "\n",
    "print(list(mappped))"
   ]
  },
  {
   "cell_type": "code",
   "execution_count": null,
   "metadata": {},
   "outputs": [],
   "source": []
  }
 ],
 "metadata": {
  "kernelspec": {
   "display_name": "Python 3",
   "language": "python",
   "name": "python3"
  },
  "language_info": {
   "codemirror_mode": {
    "name": "ipython",
    "version": 3
   },
   "file_extension": ".py",
   "mimetype": "text/x-python",
   "name": "python",
   "nbconvert_exporter": "python",
   "pygments_lexer": "ipython3",
   "version": "3.12.4"
  }
 },
 "nbformat": 4,
 "nbformat_minor": 2
}
