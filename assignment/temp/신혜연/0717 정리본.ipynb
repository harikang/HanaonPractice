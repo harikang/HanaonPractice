{
 "cells": [
  {
   "cell_type": "code",
   "execution_count": null,
   "metadata": {},
   "outputs": [],
   "source": [
    "#성적출력하기\n",
    "score = int(input(\"성적을 입력하세요:\"))\n",
    "\n",
    "def testscore(score):\n",
    "    if 90 <= score <= 100:\n",
    "        print('A')\n",
    "    elif 80 <= score < 90:\n",
    "        print('B')\n",
    "    elif 70 <= score < 80:\n",
    "        print('C')\n",
    "    else:\n",
    "        print('D')\n",
    "\n",
    "testscore(score)"
   ]
  },
  {
   "cell_type": "code",
   "execution_count": null,
   "metadata": {},
   "outputs": [],
   "source": [
    "#과일바구니 관련 예제\n",
    "len() #카운트블객체로, 이터러블객체를 넣으면 사람이 카운트하는 숫자로 리턴\n",
    "#컴퓨터 숫자 : 0부터 시작\n",
    "#사람이 카운트하는 숫자 : 1부터 시작\n"
   ]
  },
  {
   "cell_type": "code",
   "execution_count": null,
   "metadata": {},
   "outputs": [],
   "source": [
    "과일들 = ['사과','딸기']\n",
    "\n",
    "for i in 과일들:\n",
    "    print(f'과일들 이름은{과일들}입니다.')\n",
    "    # print(f'{}번째 과일은 {item}입니다.')\n",
    "\n",
    "for i in range(0,len(과일들)):\n",
    "    print(f'과일 이름은 {과일들[1]}입니다.')\n",
    "    print(f'{i}번째 과일은 {과일들[i]}입니다.')\n",
    "\n",
    "for idx, 과일 in enumerate(과일들):\n",
    "    print(f'과일이름은 {과일들[i]} 입니다.')\n",
    "    print(f'{idx}번째 과일은 {과일들[i]}입니다.')\n"
   ]
  },
  {
   "cell_type": "code",
   "execution_count": null,
   "metadata": {},
   "outputs": [],
   "source": [
    "#0부터 100까지 출력하기 - for\n",
    "for i in range(100):\n",
    "    print(i)\n"
   ]
  },
  {
   "cell_type": "code",
   "execution_count": null,
   "metadata": {},
   "outputs": [],
   "source": [
    "#0부터 100까지 출력하기 - while\n",
    "n = 0\n",
    "while n < 101:\n",
    "    print(n)\n",
    "    n += 1"
   ]
  },
  {
   "cell_type": "code",
   "execution_count": null,
   "metadata": {},
   "outputs": [],
   "source": [
    "#0부터 100까지 짝수만 출력하기 - for\n",
    "for i in range(0,100,2):\n",
    "    print(i)"
   ]
  },
  {
   "cell_type": "code",
   "execution_count": null,
   "metadata": {},
   "outputs": [],
   "source": [
    "#0부터 100까지 짝수만 출력하기 - while\n",
    "n = 0\n",
    "while n < 101:\n",
    "    print(n)\n",
    "    n = n+2"
   ]
  },
  {
   "cell_type": "code",
   "execution_count": 22,
   "metadata": {},
   "outputs": [
    {
     "name": "stdout",
     "output_type": "stream",
     "text": [
      "2 단을 출력해봅시다.\n",
      "2 * 1 = 2\n",
      "2 * 2 = 4\n",
      "2 * 3 = 6\n",
      "2 * 4 = 8\n",
      "2 * 5 = 10\n",
      "2 * 6 = 12\n",
      "2 * 7 = 14\n",
      "2 * 8 = 16\n",
      "2 * 9 = 18\n",
      "----------\n",
      "3 단을 출력해봅시다.\n",
      "3 * 1 = 3\n",
      "3 * 2 = 6\n",
      "3 * 3 = 9\n",
      "3 * 4 = 12\n",
      "3 * 5 = 15\n",
      "3 * 6 = 18\n",
      "3 * 7 = 21\n",
      "3 * 8 = 24\n",
      "3 * 9 = 27\n",
      "----------\n",
      "4 단을 출력해봅시다.\n",
      "4 * 1 = 4\n",
      "4 * 2 = 8\n",
      "4 * 3 = 12\n",
      "4 * 4 = 16\n",
      "4 * 5 = 20\n",
      "4 * 6 = 24\n",
      "4 * 7 = 28\n",
      "4 * 8 = 32\n",
      "4 * 9 = 36\n",
      "----------\n",
      "5 단을 출력해봅시다.\n",
      "5 * 1 = 5\n",
      "5 * 2 = 10\n",
      "5 * 3 = 15\n",
      "5 * 4 = 20\n",
      "5 * 5 = 25\n",
      "5 * 6 = 30\n",
      "5 * 7 = 35\n",
      "5 * 8 = 40\n",
      "5 * 9 = 45\n",
      "----------\n",
      "6 단을 출력해봅시다.\n",
      "6 * 1 = 6\n",
      "6 * 2 = 12\n",
      "6 * 3 = 18\n",
      "6 * 4 = 24\n",
      "6 * 5 = 30\n",
      "6 * 6 = 36\n",
      "6 * 7 = 42\n",
      "6 * 8 = 48\n",
      "6 * 9 = 54\n",
      "----------\n",
      "7 단을 출력해봅시다.\n",
      "7 * 1 = 7\n",
      "7 * 2 = 14\n",
      "7 * 3 = 21\n",
      "7 * 4 = 28\n",
      "7 * 5 = 35\n",
      "7 * 6 = 42\n",
      "7 * 7 = 49\n",
      "7 * 8 = 56\n",
      "7 * 9 = 63\n",
      "----------\n",
      "8 단을 출력해봅시다.\n",
      "8 * 1 = 8\n",
      "8 * 2 = 16\n",
      "8 * 3 = 24\n",
      "8 * 4 = 32\n",
      "8 * 5 = 40\n",
      "8 * 6 = 48\n",
      "8 * 7 = 56\n",
      "8 * 8 = 64\n",
      "8 * 9 = 72\n",
      "----------\n",
      "9 단을 출력해봅시다.\n",
      "9 * 1 = 9\n",
      "9 * 2 = 18\n",
      "9 * 3 = 27\n",
      "9 * 4 = 36\n",
      "9 * 5 = 45\n",
      "9 * 6 = 54\n",
      "9 * 7 = 63\n",
      "9 * 8 = 72\n",
      "9 * 9 = 81\n",
      "----------\n"
     ]
    }
   ],
   "source": [
    "#구구단 짜기 \n",
    "for x in range(2,10): \n",
    "    print(x,'단을 출력해봅시다.')\n",
    "    for y in range(1,10):\n",
    "        print(x, '*', y, '=', x * y)\n",
    "        if(y == 9):\n",
    "            print('----------')"
   ]
  },
  {
   "cell_type": "code",
   "execution_count": 23,
   "metadata": {},
   "outputs": [],
   "source": [
    "# 바다코끼리 문법이란?\n",
    "# Python 3.8에서 도입된 \"바다코끼리 연산자\" (:=)는 할당 표현식을 가능하게 합니다. \n",
    "# 이는 변수를 할당하는 동시에 표현식에서 그 값을 사용할 수 있게 합니다. 바다코끼리 연산자는 코드의 가독성을 높이고 중복을 줄이는 데 유용합니다.\n",
    "\n",
    "line = input(\"Enter something: \")\n",
    "while line != \"quit\":\n",
    "    print(f\"You entered: {line}\")\n",
    "    line = input(\"Enter something: \")\n",
    "\n",
    "# With walrus operator (바다코끼리 연산자)\n",
    "while (line := input(\"Enter something: \")) != \"quit\":\n",
    "    print(f\"You entered: {line}\")"
   ]
  },
  {
   "cell_type": "code",
   "execution_count": 24,
   "metadata": {},
   "outputs": [
    {
     "name": "stdout",
     "output_type": "stream",
     "text": [
      "No module named 'asfdsg'\n"
     ]
    }
   ],
   "source": [
    "# 예외 처리 방법\n",
    "try:\n",
    "    import asfdsg\n",
    "except Exception as e:\n",
    "    print(e)\n"
   ]
  },
  {
   "cell_type": "code",
   "execution_count": null,
   "metadata": {},
   "outputs": [],
   "source": []
  }
 ],
 "metadata": {
  "kernelspec": {
   "display_name": "Python 3",
   "language": "python",
   "name": "python3"
  },
  "language_info": {
   "codemirror_mode": {
    "name": "ipython",
    "version": 3
   },
   "file_extension": ".py",
   "mimetype": "text/x-python",
   "name": "python",
   "nbconvert_exporter": "python",
   "pygments_lexer": "ipython3",
   "version": "3.12.3"
  }
 },
 "nbformat": 4,
 "nbformat_minor": 2
}
