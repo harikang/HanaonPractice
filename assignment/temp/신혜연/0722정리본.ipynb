{
 "cells": [
  {
   "cell_type": "markdown",
   "metadata": {},
   "source": [
    "### 데코레이터"
   ]
  },
  {
   "cell_type": "code",
   "execution_count": 21,
   "metadata": {},
   "outputs": [],
   "source": [
    "# @데코레이터\n",
    "# 데코레이터는 꾸며주는 함수라고 볼 수 있다\n",
    "# - 함수 데코레이터\n",
    "# - 클래스 데코레이터\n",
    "# - 사용자 데코레이터 (파이썬이 만든게 아니라 사용자가 자유롭게 만든거)\n",
    "\n",
    "# 클래스 데코레이터 : 클래스를 꾸며줌\n",
    "# 클래스 안에는 값하고 기능이 들어있음\n",
    "# 값을 마음대로 바꾸면 안됨\n",
    "\n",
    "# @staticmethod\n",
    "# 클래스나 인스턴스의 상태를 변경하지 않음: 클래스 속성이나 인스턴스 속성에 접근할 필요가 없는 경우 사용합니다.\n",
    "# 독립적인 기능 수행: 특정 기능이 클래스에 속하지만, 클래스의 상태와는 무관한 경우 유용합니다.\n",
    "# 데코레이터 사용: @staticmethod 데코레이터를 사용하여 정의합니다.\n"
   ]
  },
  {
   "cell_type": "code",
   "execution_count": null,
   "metadata": {},
   "outputs": [],
   "source": [
    "# @데코레이터\n",
    "def asdf(a):\n",
    "    return a\n",
    "\n",
    "class 클래스명:\n",
    "    @데코레이터\n",
    "    def __\n",
    "\n",
    "\n",
    "\n",
    "# @데코레이터 종류\n",
    "    @property\n",
    "    @discounts.setter\n",
    "    @staticmethod\n",
    "    ...\n",
    "\n",
    "\n",
    "# 겟터와 셋터는 함수의 성격을 지님\n",
    "# 겟터 : 필드에 값을 가져오는 것\n",
    "1. @property\n",
    "\n",
    "# 셋터 : 필드에 값을 부여하는 것\n",
    "2. @필드.setter    \n",
    "    # 셋터 예시 :\n",
    "    로봇1.change_color(\"\")\n",
    "    # 위의 코드에서 change_ 부분"
   ]
  },
  {
   "cell_type": "code",
   "execution_count": null,
   "metadata": {},
   "outputs": [],
   "source": [
    "def trace(f):\n",
    "    def wrapper():\n",
    "        print(f, __name__,'함수시작') #__name__ 으로 함수 이름 출력\n",
    "        f() #매개변수로 받은 함수를 호출\n",
    "        print(f,__name__, '함수 끝')\n",
    "\n",
    "        return wrapper"
   ]
  },
  {
   "cell_type": "code",
   "execution_count": 14,
   "metadata": {},
   "outputs": [],
   "source": [
    "#사용자데코레이터 만들기 : @trace 만들기\n",
    "# 사용자데코레이터 만들고 사용해보기\n",
    "# 데코레이터는 다른 함수 혹은 다른 메소드를 꾸며줌\n",
    "\n",
    "def trace(q):\n",
    "    def wrapper():\n",
    "        print('함수가 호출되었습니다') #__name__ 으로 함수 이름 출력\n",
    "        f() #매개변수로 받은 함수를 호출\n",
    "        print('함수가 호출되었습니다')\n",
    "\n",
    "        return wrapper\n",
    "\n",
    "#1. 함수 꾸미기\n",
    "@trace\n",
    "def hello():\n",
    "    print(\"본체가 출력됨\")\n",
    "hello"
   ]
  },
  {
   "cell_type": "code",
   "execution_count": null,
   "metadata": {},
   "outputs": [],
   "source": [
    "class Book:\n",
    "    def __init__(self, raw_price):\n",
    "        if raw_price < 0:\n",
    "            raise ValueError('price must be positive')\n",
    "        self.raw_price = raw_price\n",
    "        self._discounts = 0 #self의 discount를 get하겠다 !\n",
    "    @property\n",
    "    def discounts(self):\n",
    "        return self._discounts\n",
    "    @discounts.setter\n",
    "    def discounts(self, value):\n",
    "        if value < 0 or 100 < value:\n",
    "            raise ValueError(\n",
    "                'discounts must be between 0 and 100')\n",
    "        self._discounts = value\n",
    "    @property\n",
    "    def price(self):\n",
    "        multi = 100 - self._discounts\n",
    "        return int(self.raw_price * multi / 100)"
   ]
  },
  {
   "cell_type": "code",
   "execution_count": 25,
   "metadata": {},
   "outputs": [
    {
     "name": "stdout",
     "output_type": "stream",
     "text": [
      "4\n"
     ]
    }
   ],
   "source": [
    "class book:\n",
    "    @staticmethod\n",
    "    def 덧셈(a,b):\n",
    "        return a+b\n",
    "\n",
    "print(book.덧셈(1,3))"
   ]
  },
  {
   "cell_type": "code",
   "execution_count": 26,
   "metadata": {},
   "outputs": [
    {
     "name": "stdout",
     "output_type": "stream",
     "text": [
      "15\n",
      "50\n"
     ]
    }
   ],
   "source": [
    "class Calculator:\n",
    "    @staticmethod\n",
    "    def add(a, b):\n",
    "        return a + b\n",
    "\n",
    "    @staticmethod\n",
    "    def multiply(a, b):\n",
    "        return a * b\n",
    "\n",
    "# 사용 예제\n",
    "print(Calculator.add(5, 10))  # 출력: 15\n",
    "print(Calculator.multiply(5, 10))  # 출력: 50"
   ]
  },
  {
   "cell_type": "code",
   "execution_count": 32,
   "metadata": {},
   "outputs": [
    {
     "name": "stdout",
     "output_type": "stream",
     "text": [
      "야옹\n",
      "미야옹\n"
     ]
    }
   ],
   "source": [
    "# 추상 클래스\n",
    "# 구체적인 구현은 안되어있음\n",
    "# 이름만 정의되어 있음\n",
    "\n",
    "\n",
    "class Cat:\n",
    "    def meow(self):#첫번째 메소드\n",
    "        print(\"야옹\")\n",
    "    def sing(self): #두번째 메소드\n",
    "        self.meow() #자기자신(self)의 메소드 호출\n",
    "        print(\"미야옹\")\n",
    "\n",
    "cat1 = Cat()\n",
    "cat1.sing()"
   ]
  },
  {
   "cell_type": "code",
   "execution_count": 38,
   "metadata": {},
   "outputs": [
    {
     "name": "stdout",
     "output_type": "stream",
     "text": [
      "멍!\n",
      "왈왈왈왈왈!!!!\n",
      "멍!\n",
      "멍멍멍멍멍!!!!\n"
     ]
    }
   ],
   "source": [
    "class dog:\n",
    "    def wall(puppy):#첫번째 메소드\n",
    "        print(\"멍!\")\n",
    "    def barrking(puppy): #두번째 메소드\n",
    "        puppy.wall() #자기자신(self)의 메소드 호출\n",
    "        print(\"멍멍멍멍멍!!!!\")\n",
    "    def crazybarrking(puppy): #두번째 메소드\n",
    "        puppy.wall() #자기자신(self)의 메소드 호출\n",
    "        print(\"왈왈왈왈왈!!!!\")        \n",
    "\n",
    "dog1 = dog()\n",
    "dog1.crazybarrking()\n",
    "dog1.barrking()"
   ]
  },
  {
   "cell_type": "code",
   "execution_count": 40,
   "metadata": {},
   "outputs": [],
   "source": [
    "import base64\n",
    "\n",
    "\n",
    "def base64_to_str(x):\n",
    "    \"\"\"base64 표현을 문자열로 변환함\n",
    "\n",
    "    b64decode()의 반환값은 bytes 타입이므로\n",
    "    decode()로 문자열로 변환해서 반환함\n",
    "    \"\"\"\n",
    "    return base64.b64decode(x).decode('utf-8')\n",
    "\n",
    "__all__ = ['base64_to_str']"
   ]
  },
  {
   "cell_type": "code",
   "execution_count": 41,
   "metadata": {},
   "outputs": [
    {
     "name": "stdout",
     "output_type": "stream",
     "text": [
      "b'LS1mPS9Vc2Vycy9zaHkvTGlicmFyeS9KdXB5dGVyL3J1bnRpbWUva2VybmVsLXYyLTEwNDNabUdoVEZxZkV3N2MuanNvbg=='\n"
     ]
    }
   ],
   "source": [
    "import base64\n",
    "import sys\n",
    "\n",
    "\n",
    "def str_to_base64(x):\n",
    "    \"\"\"문자열을 base64 표현으로 변환함\n",
    "\n",
    "    b64encode()는 bytes-like objec를 인수로 받으므로\n",
    "    문자열은 encode()로 bytes 타입으로 전달함\n",
    "    \"\"\"\n",
    "    return base64.b64encode(x.encode('utf-8'))\n",
    "\n",
    "\n",
    "def main():\n",
    "    target = sys.argv[1]\n",
    "    print(str_to_base64(target))\n",
    "\n",
    "\n",
    "if __name__ == '__main__':\n",
    "    main()\n",
    "\n",
    "__all__ = ['str_to_base64']\n"
   ]
  },
  {
   "cell_type": "code",
   "execution_count": 42,
   "metadata": {},
   "outputs": [
    {
     "ename": "ImportError",
     "evalue": "attempted relative import with no known parent package",
     "output_type": "error",
     "traceback": [
      "\u001b[0;31m---------------------------------------------------------------------------\u001b[0m",
      "\u001b[0;31mImportError\u001b[0m                               Traceback (most recent call last)",
      "Cell \u001b[0;32mIn[42], line 1\u001b[0m\n\u001b[0;32m----> 1\u001b[0m \u001b[38;5;28;01mfrom\u001b[39;00m \u001b[38;5;21;01m.\u001b[39;00m\u001b[38;5;21;01mencoder\u001b[39;00m \u001b[38;5;28;01mimport\u001b[39;00m \u001b[38;5;241m*\u001b[39m\n\u001b[1;32m      2\u001b[0m \u001b[38;5;28;01mfrom\u001b[39;00m \u001b[38;5;21;01m.\u001b[39;00m\u001b[38;5;21;01mdecoder\u001b[39;00m \u001b[38;5;28;01mimport\u001b[39;00m \u001b[38;5;241m*\u001b[39m\n",
      "\u001b[0;31mImportError\u001b[0m: attempted relative import with no known parent package"
     ]
    }
   ],
   "source": [
    "from .encoder import *\n",
    "from .decoder import *"
   ]
  },
  {
   "cell_type": "code",
   "execution_count": null,
   "metadata": {},
   "outputs": [],
   "source": []
  }
 ],
 "metadata": {
  "kernelspec": {
   "display_name": "Python 3",
   "language": "python",
   "name": "python3"
  },
  "language_info": {
   "codemirror_mode": {
    "name": "ipython",
    "version": 3
   },
   "file_extension": ".py",
   "mimetype": "text/x-python",
   "name": "python",
   "nbconvert_exporter": "python",
   "pygments_lexer": "ipython3",
   "version": "3.12.3"
  }
 },
 "nbformat": 4,
 "nbformat_minor": 2
}
