{
 "cells": [
  {
   "cell_type": "code",
   "execution_count": null,
   "metadata": {},
   "outputs": [],
   "source": [
    "pip install FreeSimpleGUI"
   ]
  },
  {
   "cell_type": "code",
   "execution_count": null,
   "metadata": {},
   "outputs": [],
   "source": [
    "import FreeSimpleGUI as sg      \n",
    "\n",
    "layout = [[sg.Text('My one-shot window.')],      \n",
    "                 [sg.InputText()],      \n",
    "                 [sg.Submit(), sg.Cancel()]]      \n",
    "\n",
    "window = sg.Window('Window Title', layout)    \n",
    "\n",
    "event, values = window.read()    \n",
    "window.close()\n",
    "\n",
    "text_input = values[0]    \n",
    "sg.popup('You entered', text_input)    "
   ]
  },
  {
   "cell_type": "code",
   "execution_count": 15,
   "metadata": {},
   "outputs": [
    {
     "data": {
      "text/plain": [
       "'OK'"
      ]
     },
     "execution_count": 15,
     "metadata": {},
     "output_type": "execute_result"
    }
   ],
   "source": [
    "import FreeSimpleGUI as sg    \n",
    "\n",
    "과일바구니 =['딸기','사과']\n",
    "\n",
    "layout = [[sg.Text('과일명을 입력해주세요')],      \n",
    "                 [sg.InputText()],      \n",
    "                 [sg.Submit(), sg.Cancel()]]      \n",
    "\n",
    "window = sg.Window('과일가게', layout)    \n",
    "\n",
    "event, values = window.read()    \n",
    "window.close()\n",
    "\n",
    "text_input = values[0]    \n",
    "sg.popup('담은과일:', text_input)\n",
    "과일바구니.append(text_input)\n",
    "sg.popup('과일바구니:', 과일바구니)    "
   ]
  },
  {
   "cell_type": "code",
   "execution_count": 18,
   "metadata": {},
   "outputs": [
    {
     "name": "stdout",
     "output_type": "stream",
     "text": [
      "Collecting auto-py-to-exe\n",
      "  Downloading auto_py_to_exe-2.44.1-py2.py3-none-any.whl.metadata (16 kB)\n",
      "Collecting Eel>=0.11.0 (from auto-py-to-exe)\n",
      "  Downloading eel-0.17.0.tar.gz (24 kB)\n",
      "  Installing build dependencies ... \u001b[?25ldone\n",
      "\u001b[?25h  Getting requirements to build wheel ... \u001b[?25ldone\n",
      "\u001b[?25h  Preparing metadata (pyproject.toml) ... \u001b[?25ldone\n",
      "\u001b[?25hCollecting pyinstaller>=5.8.0 (from auto-py-to-exe)\n",
      "  Downloading pyinstaller-6.9.0-py3-none-macosx_10_13_universal2.whl.metadata (8.3 kB)\n",
      "Collecting requests (from auto-py-to-exe)\n",
      "  Downloading requests-2.32.3-py3-none-any.whl.metadata (4.6 kB)\n",
      "Collecting bottle (from Eel>=0.11.0->auto-py-to-exe)\n",
      "  Downloading bottle-0.12.25-py3-none-any.whl.metadata (1.8 kB)\n",
      "Collecting bottle-websocket (from Eel>=0.11.0->auto-py-to-exe)\n",
      "  Downloading bottle-websocket-0.2.9.tar.gz (2.0 kB)\n",
      "  Installing build dependencies ... \u001b[?25ldone\n",
      "\u001b[?25h  Getting requirements to build wheel ... \u001b[?25ldone\n",
      "\u001b[?25h  Preparing metadata (pyproject.toml) ... \u001b[?25ldone\n",
      "\u001b[?25hCollecting future (from Eel>=0.11.0->auto-py-to-exe)\n",
      "  Downloading future-1.0.0-py3-none-any.whl.metadata (4.0 kB)\n",
      "Collecting pyparsing (from Eel>=0.11.0->auto-py-to-exe)\n",
      "  Downloading pyparsing-3.1.2-py3-none-any.whl.metadata (5.1 kB)\n",
      "Collecting whichcraft (from Eel>=0.11.0->auto-py-to-exe)\n",
      "  Downloading whichcraft-0.6.1-py2.py3-none-any.whl.metadata (4.4 kB)\n",
      "Collecting setuptools>=42.0.0 (from pyinstaller>=5.8.0->auto-py-to-exe)\n",
      "  Using cached setuptools-71.0.3-py3-none-any.whl.metadata (6.5 kB)\n",
      "Collecting altgraph (from pyinstaller>=5.8.0->auto-py-to-exe)\n",
      "  Downloading altgraph-0.17.4-py2.py3-none-any.whl.metadata (7.3 kB)\n",
      "Collecting pyinstaller-hooks-contrib>=2024.7 (from pyinstaller>=5.8.0->auto-py-to-exe)\n",
      "  Downloading pyinstaller_hooks_contrib-2024.7-py2.py3-none-any.whl.metadata (16 kB)\n",
      "Requirement already satisfied: packaging>=22.0 in /Users/shy/Library/Python/3.12/lib/python/site-packages (from pyinstaller>=5.8.0->auto-py-to-exe) (24.0)\n",
      "Collecting macholib>=1.8 (from pyinstaller>=5.8.0->auto-py-to-exe)\n",
      "  Downloading macholib-1.16.3-py2.py3-none-any.whl.metadata (11 kB)\n",
      "Collecting charset-normalizer<4,>=2 (from requests->auto-py-to-exe)\n",
      "  Downloading charset_normalizer-3.3.2-cp312-cp312-macosx_10_9_x86_64.whl.metadata (33 kB)\n",
      "Collecting idna<4,>=2.5 (from requests->auto-py-to-exe)\n",
      "  Downloading idna-3.7-py3-none-any.whl.metadata (9.9 kB)\n",
      "Collecting urllib3<3,>=1.21.1 (from requests->auto-py-to-exe)\n",
      "  Downloading urllib3-2.2.2-py3-none-any.whl.metadata (6.4 kB)\n",
      "Collecting certifi>=2017.4.17 (from requests->auto-py-to-exe)\n",
      "  Downloading certifi-2024.7.4-py3-none-any.whl.metadata (2.2 kB)\n",
      "Collecting gevent-websocket (from bottle-websocket->Eel>=0.11.0->auto-py-to-exe)\n",
      "  Downloading gevent_websocket-0.10.1-py3-none-any.whl.metadata (5.3 kB)\n",
      "Collecting gevent (from gevent-websocket->bottle-websocket->Eel>=0.11.0->auto-py-to-exe)\n",
      "  Downloading gevent-24.2.1-cp312-cp312-macosx_11_0_universal2.whl.metadata (13 kB)\n",
      "Collecting zope.event (from gevent->gevent-websocket->bottle-websocket->Eel>=0.11.0->auto-py-to-exe)\n",
      "  Downloading zope.event-5.0-py3-none-any.whl.metadata (4.4 kB)\n",
      "Collecting zope.interface (from gevent->gevent-websocket->bottle-websocket->Eel>=0.11.0->auto-py-to-exe)\n",
      "  Downloading zope.interface-6.4.post2-cp312-cp312-macosx_10_9_x86_64.whl.metadata (42 kB)\n",
      "\u001b[2K     \u001b[90m━━━━━━━━━━━━━━━━━━━━━━━━━━━━━━━━━━━━━━━━\u001b[0m \u001b[32m42.9/42.9 kB\u001b[0m \u001b[31m1.3 MB/s\u001b[0m eta \u001b[36m0:00:00\u001b[0m\n",
      "\u001b[?25hCollecting greenlet>=3.0rc3 (from gevent->gevent-websocket->bottle-websocket->Eel>=0.11.0->auto-py-to-exe)\n",
      "  Downloading greenlet-3.0.3-cp312-cp312-macosx_11_0_universal2.whl.metadata (3.8 kB)\n",
      "Downloading auto_py_to_exe-2.44.1-py2.py3-none-any.whl (190 kB)\n",
      "\u001b[2K   \u001b[90m━━━━━━━━━━━━━━━━━━━━━━━━━━━━━━━━━━━━━━━━\u001b[0m \u001b[32m190.9/190.9 kB\u001b[0m \u001b[31m3.5 MB/s\u001b[0m eta \u001b[36m0:00:00\u001b[0ma \u001b[36m0:00:01\u001b[0m\n",
      "\u001b[?25hDownloading pyinstaller-6.9.0-py3-none-macosx_10_13_universal2.whl (959 kB)\n",
      "\u001b[2K   \u001b[90m━━━━━━━━━━━━━━━━━━━━━━━━━━━━━━━━━━━━━━━━\u001b[0m \u001b[32m959.8/959.8 kB\u001b[0m \u001b[31m6.7 MB/s\u001b[0m eta \u001b[36m0:00:00\u001b[0m00:01\u001b[0m00:01\u001b[0mm\n",
      "\u001b[?25hDownloading requests-2.32.3-py3-none-any.whl (64 kB)\n",
      "\u001b[2K   \u001b[90m━━━━━━━━━━━━━━━━━━━━━━━━━━━━━━━━━━━━━━━━\u001b[0m \u001b[32m64.9/64.9 kB\u001b[0m \u001b[31m1.3 MB/s\u001b[0m eta \u001b[36m0:00:00\u001b[0ma \u001b[36m0:00:01\u001b[0m\n",
      "\u001b[?25hDownloading certifi-2024.7.4-py3-none-any.whl (162 kB)\n",
      "\u001b[2K   \u001b[90m━━━━━━━━━━━━━━━━━━━━━━━━━━━━━━━━━━━━━━━━\u001b[0m \u001b[32m163.0/163.0 kB\u001b[0m \u001b[31m3.2 MB/s\u001b[0m eta \u001b[36m0:00:00\u001b[0ma \u001b[36m0:00:01\u001b[0m\n",
      "\u001b[?25hDownloading charset_normalizer-3.3.2-cp312-cp312-macosx_10_9_x86_64.whl (122 kB)\n",
      "\u001b[2K   \u001b[90m━━━━━━━━━━━━━━━━━━━━━━━━━━━━━━━━━━━━━━━━\u001b[0m \u001b[32m122.2/122.2 kB\u001b[0m \u001b[31m2.3 MB/s\u001b[0m eta \u001b[36m0:00:00\u001b[0ma \u001b[36m0:00:01\u001b[0m\n",
      "\u001b[?25hDownloading idna-3.7-py3-none-any.whl (66 kB)\n",
      "\u001b[2K   \u001b[90m━━━━━━━━━━━━━━━━━━━━━━━━━━━━━━━━━━━━━━━━\u001b[0m \u001b[32m66.8/66.8 kB\u001b[0m \u001b[31m1.3 MB/s\u001b[0m eta \u001b[36m0:00:00\u001b[0ma \u001b[36m0:00:01\u001b[0m\n",
      "\u001b[?25hDownloading macholib-1.16.3-py2.py3-none-any.whl (38 kB)\n",
      "Downloading altgraph-0.17.4-py2.py3-none-any.whl (21 kB)\n",
      "Downloading pyinstaller_hooks_contrib-2024.7-py2.py3-none-any.whl (341 kB)\n",
      "\u001b[2K   \u001b[90m━━━━━━━━━━━━━━━━━━━━━━━━━━━━━━━━━━━━━━━━\u001b[0m \u001b[32m341.3/341.3 kB\u001b[0m \u001b[31m5.7 MB/s\u001b[0m eta \u001b[36m0:00:00\u001b[0m:00:01\u001b[0m\n",
      "\u001b[?25hUsing cached setuptools-71.0.3-py3-none-any.whl (2.3 MB)\n",
      "Downloading urllib3-2.2.2-py3-none-any.whl (121 kB)\n",
      "\u001b[2K   \u001b[90m━━━━━━━━━━━━━━━━━━━━━━━━━━━━━━━━━━━━━━━━\u001b[0m \u001b[32m121.4/121.4 kB\u001b[0m \u001b[31m2.5 MB/s\u001b[0m eta \u001b[36m0:00:00\u001b[0mta \u001b[36m0:00:01\u001b[0m\n",
      "\u001b[?25hDownloading bottle-0.12.25-py3-none-any.whl (90 kB)\n",
      "\u001b[2K   \u001b[90m━━━━━━━━━━━━━━━━━━━━━━━━━━━━━━━━━━━━━━━━\u001b[0m \u001b[32m90.2/90.2 kB\u001b[0m \u001b[31m2.8 MB/s\u001b[0m eta \u001b[36m0:00:00\u001b[0m\n",
      "\u001b[?25hDownloading future-1.0.0-py3-none-any.whl (491 kB)\n",
      "\u001b[2K   \u001b[90m━━━━━━━━━━━━━━━━━━━━━━━━━━━━━━━━━━━━━━━━\u001b[0m \u001b[32m491.3/491.3 kB\u001b[0m \u001b[31m6.5 MB/s\u001b[0m eta \u001b[36m0:00:00\u001b[0mta \u001b[36m0:00:01\u001b[0m\n",
      "\u001b[?25hDownloading pyparsing-3.1.2-py3-none-any.whl (103 kB)\n",
      "\u001b[2K   \u001b[90m━━━━━━━━━━━━━━━━━━━━━━━━━━━━━━━━━━━━━━━━\u001b[0m \u001b[32m103.2/103.2 kB\u001b[0m \u001b[31m2.0 MB/s\u001b[0m eta \u001b[36m0:00:00\u001b[0m00:01\u001b[0m\n",
      "\u001b[?25hDownloading whichcraft-0.6.1-py2.py3-none-any.whl (5.2 kB)\n",
      "Downloading gevent_websocket-0.10.1-py3-none-any.whl (22 kB)\n",
      "Downloading gevent-24.2.1-cp312-cp312-macosx_11_0_universal2.whl (3.0 MB)\n",
      "\u001b[2K   \u001b[90m━━━━━━━━━━━━━━━━━━━━━━━━━━━━━━━━━━━━━━━━\u001b[0m \u001b[32m3.0/3.0 MB\u001b[0m \u001b[31m8.5 MB/s\u001b[0m eta \u001b[36m0:00:00\u001b[0m00:01\u001b[0m00:01\u001b[0mm\n",
      "\u001b[?25hDownloading greenlet-3.0.3-cp312-cp312-macosx_11_0_universal2.whl (273 kB)\n",
      "\u001b[2K   \u001b[90m━━━━━━━━━━━━━━━━━━━━━━━━━━━━━━━━━━━━━━━━\u001b[0m \u001b[32m273.1/273.1 kB\u001b[0m \u001b[31m5.3 MB/s\u001b[0m eta \u001b[36m0:00:00\u001b[0mta \u001b[36m0:00:01\u001b[0m\n",
      "\u001b[?25hDownloading zope.event-5.0-py3-none-any.whl (6.8 kB)\n",
      "Downloading zope.interface-6.4.post2-cp312-cp312-macosx_10_9_x86_64.whl (203 kB)\n",
      "\u001b[2K   \u001b[90m━━━━━━━━━━━━━━━━━━━━━━━━━━━━━━━━━━━━━━━━\u001b[0m \u001b[32m203.1/203.1 kB\u001b[0m \u001b[31m5.0 MB/s\u001b[0m eta \u001b[36m0:00:00\u001b[0mta \u001b[36m0:00:01\u001b[0m\n",
      "\u001b[?25hBuilding wheels for collected packages: Eel, bottle-websocket\n",
      "  Building wheel for Eel (pyproject.toml) ... \u001b[?25ldone\n",
      "\u001b[?25h  Created wheel for Eel: filename=Eel-0.17.0-py3-none-any.whl size=20604 sha256=6d358e82e2b48bfe3c307b3ff30edde6a68090fd5bc6ced4eb9482533232c514\n",
      "  Stored in directory: /Users/shy/Library/Caches/pip/wheels/e5/4e/3b/60d6041381c5c407f07f66ab709fb6517c447d77722fce8389\n",
      "  Building wheel for bottle-websocket (pyproject.toml) ... \u001b[?25ldone\n",
      "\u001b[?25h  Created wheel for bottle-websocket: filename=bottle_websocket-0.2.9-py3-none-any.whl size=2333 sha256=0c11b7e13586126cc2701d47635aeabd0635d4a02423641e412d556f04a7d48e\n",
      "  Stored in directory: /Users/shy/Library/Caches/pip/wheels/83/b3/23/5d63740225cdbc67270b75cbfe5cf5f12c81aa059bf848a8cf\n",
      "Successfully built Eel bottle-websocket\n",
      "Installing collected packages: whichcraft, bottle, altgraph, urllib3, setuptools, pyparsing, macholib, idna, greenlet, future, charset-normalizer, certifi, zope.interface, zope.event, requests, pyinstaller-hooks-contrib, pyinstaller, gevent, gevent-websocket, bottle-websocket, Eel, auto-py-to-exe\n",
      "Successfully installed Eel-0.17.0 altgraph-0.17.4 auto-py-to-exe-2.44.1 bottle-0.12.25 bottle-websocket-0.2.9 certifi-2024.7.4 charset-normalizer-3.3.2 future-1.0.0 gevent-24.2.1 gevent-websocket-0.10.1 greenlet-3.0.3 idna-3.7 macholib-1.16.3 pyinstaller-6.9.0 pyinstaller-hooks-contrib-2024.7 pyparsing-3.1.2 requests-2.32.3 setuptools-71.0.3 urllib3-2.2.2 whichcraft-0.6.1 zope.event-5.0 zope.interface-6.4.post2\n",
      "\n",
      "\u001b[1m[\u001b[0m\u001b[34;49mnotice\u001b[0m\u001b[1;39;49m]\u001b[0m\u001b[39;49m A new release of pip is available: \u001b[0m\u001b[31;49m24.0\u001b[0m\u001b[39;49m -> \u001b[0m\u001b[32;49m24.1.2\u001b[0m\n",
      "\u001b[1m[\u001b[0m\u001b[34;49mnotice\u001b[0m\u001b[1;39;49m]\u001b[0m\u001b[39;49m To update, run: \u001b[0m\u001b[32;49mpip3.12 install --upgrade pip\u001b[0m\n",
      "Note: you may need to restart the kernel to use updated packages.\n"
     ]
    }
   ],
   "source": [
    "pip install auto-py-to-exe"
   ]
  },
  {
   "cell_type": "code",
   "execution_count": 19,
   "metadata": {},
   "outputs": [],
   "source": [
    "## 집합이란? set -> {}를 사용해서 묶어줌\n",
    "## 집합의 특징 : 중복된 엘리먼트를 하나로 합쳐줌\n",
    "items = {'note', 'notebook', 'sketchbook'}\n",
    "type(items)\n",
    "\n",
    "set(['note', 'notebook', 'sketchbook', 'sketchbook'])\n"
   ]
  },
  {
   "cell_type": "code",
   "execution_count": null,
   "metadata": {},
   "outputs": [],
   "source": [
    "## frozenst 타입이란? 변경할 수 없는 집합을 다룸\n",
    "## frozenst 특징 : set와 동일하게 엘리먼트 중복을 허용하지 않음, 순서 미유지\n",
    "items = frozenset(['note', 'notebook', 'sketchbook'])\n",
    "type(items)\n",
    "items"
   ]
  },
  {
   "cell_type": "code",
   "execution_count": null,
   "metadata": {},
   "outputs": [],
   "source": [
    "## 리스트 컴프리헨션 : 축약 문법으로, 속도가 빠름! 파이써닉한 아이\n",
    "## 리스트 컴프리헨션은 리스트, 포문, 어펜드, 이프문을 축약해서 한방에 처리함\n",
    "## 결론은 리스트를 만들어주는 아이\n",
    "\n",
    "리스트 = []\n",
    "for i in range(0,100):\n",
    "    if i%2==0;\n",
    "        리스트.appand(i)\n",
    "\n",
    "리스트 = [0 ~~~~~ 98]\n",
    "\n",
    "핸션 = [x for x in range(0, 100) if x>10]\n",
    "\n",
    "#중첩된 리스트 컴프리헨션\n",
    "tuples = []\n",
    "for x in [1, 2, 3]:\n",
    "    for y in [4, 5, 6]:\n",
    "        tuples.append((x, y))"
   ]
  },
  {
   "cell_type": "code",
   "execution_count": 36,
   "metadata": {},
   "outputs": [
    {
     "data": {
      "text/plain": [
       "[(2, 'X', 1, '=', 2),\n",
       " (2, 'X', 2, '=', 4),\n",
       " (2, 'X', 3, '=', 6),\n",
       " (2, 'X', 4, '=', 8),\n",
       " (2, 'X', 5, '=', 10),\n",
       " (2, 'X', 6, '=', 12),\n",
       " (2, 'X', 7, '=', 14),\n",
       " (2, 'X', 8, '=', 16),\n",
       " (2, 'X', 9, '=', 18),\n",
       " (4, 'X', 1, '=', 4),\n",
       " (4, 'X', 2, '=', 8),\n",
       " (4, 'X', 3, '=', 12),\n",
       " (4, 'X', 4, '=', 16),\n",
       " (4, 'X', 5, '=', 20),\n",
       " (4, 'X', 6, '=', 24),\n",
       " (4, 'X', 7, '=', 28),\n",
       " (4, 'X', 8, '=', 32),\n",
       " (4, 'X', 9, '=', 36),\n",
       " (6, 'X', 1, '=', 6),\n",
       " (6, 'X', 2, '=', 12),\n",
       " (6, 'X', 3, '=', 18),\n",
       " (6, 'X', 4, '=', 24),\n",
       " (6, 'X', 5, '=', 30),\n",
       " (6, 'X', 6, '=', 36),\n",
       " (6, 'X', 7, '=', 42),\n",
       " (6, 'X', 8, '=', 48),\n",
       " (6, 'X', 9, '=', 54),\n",
       " (8, 'X', 1, '=', 8),\n",
       " (8, 'X', 2, '=', 16),\n",
       " (8, 'X', 3, '=', 24),\n",
       " (8, 'X', 4, '=', 32),\n",
       " (8, 'X', 5, '=', 40),\n",
       " (8, 'X', 6, '=', 48),\n",
       " (8, 'X', 7, '=', 56),\n",
       " (8, 'X', 8, '=', 64),\n",
       " (8, 'X', 9, '=', 72)]"
      ]
     },
     "execution_count": 36,
     "metadata": {},
     "output_type": "execute_result"
    }
   ],
   "source": [
    "#짝수단 구구단 예제\n",
    "짝수구구단 = [(i,'X',j,'=', i * j)\n",
    "                for i in range(2, 10, 2)\n",
    "                for j in range(1, 10)]\n",
    "\n",
    "짝수구구단"
   ]
  },
  {
   "cell_type": "code",
   "execution_count": null,
   "metadata": {},
   "outputs": [],
   "source": [
    "def 숫자들합(*args)\n",
    "    누적합 = 0\n",
    "    for item in args:\n",
    "        누적합 += args\n",
    "    return 누적합\n",
    "숫자들 = [1,2,3,4,5]"
   ]
  },
  {
   "cell_type": "code",
   "execution_count": 42,
   "metadata": {},
   "outputs": [
    {
     "ename": "IndentationError",
     "evalue": "expected an indented block after function definition on line 4 (1212060984.py, line 5)",
     "output_type": "error",
     "traceback": [
      "\u001b[0;36m  Cell \u001b[0;32mIn[42], line 5\u001b[0;36m\u001b[0m\n\u001b[0;31m    filtered = filter(asdf, nums)\u001b[0m\n\u001b[0m    ^\u001b[0m\n\u001b[0;31mIndentationError\u001b[0m\u001b[0;31m:\u001b[0m expected an indented block after function definition on line 4\n"
     ]
    }
   ],
   "source": [
    "filtered = filter(lambda x: len(x)==3, nums)\n",
    "list(filtered)\n",
    "\n",
    "def asdf(x):\n",
    "    if le(x) == 3:\n",
    "        return True\n",
    "\n",
    "filtered = filter(asdf, nums)\n",
    "list(filtered)"
   ]
  },
  {
   "cell_type": "code",
   "execution_count": 43,
   "metadata": {},
   "outputs": [
    {
     "name": "stdout",
     "output_type": "stream",
     "text": [
      "[2, 4, 6, 8, 10]\n"
     ]
    }
   ],
   "source": [
    "숫자들 = [1,2,3,4,5]\n",
    "def two_x(num):\n",
    "    return num*2\n",
    "mapped = map(two_x, 숫자들)\n",
    "print(list(mapped))"
   ]
  },
  {
   "cell_type": "code",
   "execution_count": 51,
   "metadata": {},
   "outputs": [],
   "source": [
    "class Robot:\n",
    "    def __init__(self, color, name):\n",
    "        self.color = color\n",
    "        self.name = name\n",
    "    \n",
    "    def run(self):\n",
    "        print(\"앞으로 달림\")"
   ]
  },
  {
   "cell_type": "code",
   "execution_count": 53,
   "metadata": {},
   "outputs": [
    {
     "name": "stdout",
     "output_type": "stream",
     "text": [
      "검정\n",
      "앞으로 달림\n",
      "None\n"
     ]
    },
    {
     "ename": "",
     "evalue": "",
     "output_type": "error",
     "traceback": [
      "\u001b[1;31m현재 셀 또는 이전 셀에서 코드를 실행하는 동안 Kernel이 충돌했습니다. \n",
      "\u001b[1;31m셀의 코드를 검토하여 가능한 오류 원인을 식별하세요. \n",
      "\u001b[1;31m자세한 내용을 보려면 <a href='https://aka.ms/vscodeJupyterKernelCrash'>여기</a>를 클릭하세요. \n",
      "\u001b[1;31m자세한 내용은 Jupyter <a href='command:jupyter.viewOutput'>로그</a>를 참조하세요."
     ]
    }
   ],
   "source": [
    "if __name__ == \"__main__\":\n",
    "    로봇1 = Robot(color = \"검정\", name = \"1호\")\n",
    "    로봇2 = Robot(color = \"빨강\", name = \"2호\")\n",
    "    print(로봇1.color)\n",
    "    print(로봇1.run())\n",
    "\n"
   ]
  },
  {
   "cell_type": "code",
   "execution_count": null,
   "metadata": {},
   "outputs": [],
   "source": []
  }
 ],
 "metadata": {
  "kernelspec": {
   "display_name": "Python 3",
   "language": "python",
   "name": "python3"
  },
  "language_info": {
   "codemirror_mode": {
    "name": "ipython",
    "version": 3
   },
   "file_extension": ".py",
   "mimetype": "text/x-python",
   "name": "python",
   "nbconvert_exporter": "python",
   "pygments_lexer": "ipython3",
   "version": "3.12.3"
  }
 },
 "nbformat": 4,
 "nbformat_minor": 2
}
