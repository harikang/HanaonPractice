{
 "cells": [
  {
   "cell_type": "code",
   "execution_count": null,
   "metadata": {},
   "outputs": [],
   "source": [
    "def asdf(a,b,c)->str:\n",
    "    \"\"\"_summary_\n",
    "\n",
    "    Args:\n",
    "        a (int): nominator\n",
    "        b (int): denominator\n",
    "        c (boolean): True, False\n",
    "    \"\"\"\n",
    "\n",
    "    return \"happy\"\n",
    "\n",
    "\n",
    "print(asdf.__doc__())\n",
    "print(asdf._summary_())"
   ]
  },
  {
   "cell_type": "code",
   "execution_count": null,
   "metadata": {},
   "outputs": [],
   "source": []
  }
 ],
 "metadata": {
  "language_info": {
   "name": "python"
  }
 },
 "nbformat": 4,
 "nbformat_minor": 2
}
